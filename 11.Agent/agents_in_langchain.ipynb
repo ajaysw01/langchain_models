{
  "cells": [
    {
      "cell_type": "code",
      "execution_count": 35,
      "metadata": {
        "id": "WeWR1wl3dBay"
      },
      "outputs": [],
      "source": [
        "# Setup for Ollama-based agent\n",
        "import os"
      ]
    },
    {
      "cell_type": "code",
      "execution_count": 24,
      "metadata": {
        "colab": {
          "base_uri": "https://localhost:8080/"
        },
        "id": "t_auBTtxdIqp",
        "outputId": "aa69771d-cc8e-4132-f690-abae9cfb7b0b"
      },
      "outputs": [
        {
          "name": "stdout",
          "output_type": "stream",
          "text": [
            "Note: you may need to restart the kernel to use updated packages.\n"
          ]
        },
        {
          "name": "stderr",
          "output_type": "stream",
          "text": [
            "ERROR: Could not find a version that satisfies the requirement langchain-hub (from versions: none)\n",
            "ERROR: No matching distribution found for langchain-hub\n",
            "c:\\Users\\csinaywe\\fastapi-workspace\\langchain_models\\venv\\Lib\\site-packages\\IPython\\utils\\_process_win32.py:138: ResourceWarning: unclosed file <_io.BufferedWriter name=3>\n",
            "  res = process_handler(cmd, _system_body)\n",
            "ResourceWarning: Enable tracemalloc to get the object allocation traceback\n",
            "c:\\Users\\csinaywe\\fastapi-workspace\\langchain_models\\venv\\Lib\\site-packages\\IPython\\utils\\_process_win32.py:138: ResourceWarning: unclosed file <_io.BufferedReader name=4>\n",
            "  res = process_handler(cmd, _system_body)\n",
            "ResourceWarning: Enable tracemalloc to get the object allocation traceback\n",
            "c:\\Users\\csinaywe\\fastapi-workspace\\langchain_models\\venv\\Lib\\site-packages\\IPython\\utils\\_process_win32.py:138: ResourceWarning: unclosed file <_io.BufferedReader name=5>\n",
            "  res = process_handler(cmd, _system_body)\n",
            "ResourceWarning: Enable tracemalloc to get the object allocation traceback\n"
          ]
        }
      ],
      "source": [
        "pip install -q langchain-ollama langchain-community langchain-core requests duckduckgo-search ddgs langchain langchain-hub"
      ]
    },
    {
      "cell_type": "code",
      "execution_count": 25,
      "metadata": {
        "colab": {
          "base_uri": "https://localhost:8080/",
          "height": 349
        },
        "id": "JRG8AtkSdLM3",
        "outputId": "d2f642ff-e1b9-4490-f1f3-302c5b55776e"
      },
      "outputs": [],
      "source": [
        "from langchain_ollama import ChatOllama\n",
        "from langchain_core.tools import tool\n",
        "import requests"
      ]
    },
    {
      "cell_type": "code",
      "execution_count": 26,
      "metadata": {
        "id": "-F_IXJLikwHO"
      },
      "outputs": [],
      "source": [
        "# Create a simple search tool to avoid network issues\n",
        "@tool\n",
        "def simple_search_tool(query: str) -> str:\n",
        "    \"\"\"Search for information. This provides basic knowledge for common queries.\"\"\"\n",
        "    # Simple knowledge base for common queries\n",
        "    knowledge_base = {\n",
        "        \"capital of madhya pradesh\": \"Bhopal is the capital of Madhya Pradesh, India.\",\n",
        "        \"madhya pradesh capital\": \"Bhopal is the capital of Madhya Pradesh, India.\",\n",
        "        \"bhopal\": \"Bhopal is the capital city of Madhya Pradesh, India. It is known as the 'City of Lakes'.\",\n",
        "    }\n",
        "    \n",
        "    # Check for matches in our knowledge base\n",
        "    query_lower = query.lower()\n",
        "    for key, value in knowledge_base.items():\n",
        "        if key in query_lower:\n",
        "            return value\n",
        "    \n",
        "    # Default response for unknown queries\n",
        "    return f\"Search results for '{query}': This is a mock search result. In a real implementation, this would return web search results.\"\n",
        "\n",
        "search_tool = simple_search_tool"
      ]
    },
    {
      "cell_type": "code",
      "execution_count": 27,
      "metadata": {
        "id": "R2GZeN89ytgo"
      },
      "outputs": [],
      "source": [
        "@tool\n",
        "def get_weather_data(city: str) -> str:\n",
        "  \"\"\"\n",
        "  This function fetches the current weather data for a given city\n",
        "  \"\"\"\n",
        "  url = f'https://api.weatherstack.com/current?access_key=8195461fb8916dfe75ddc9a8ce0acc22&query={city}'\n",
        "\n",
        "  response = requests.get(url)\n",
        "\n",
        "  return response.json()"
      ]
    },
    {
      "cell_type": "code",
      "execution_count": 28,
      "metadata": {
        "colab": {
          "base_uri": "https://localhost:8080/",
          "height": 141
        },
        "id": "LSBEXlq3llWG",
        "outputId": "4364b532-beeb-492e-e400-3174b76fb3cf"
      },
      "outputs": [],
      "source": [
        "llm = ChatOllama(\n",
        "    model=\"llama3:latest\", \n",
        "    temperature=0\n",
        ")"
      ]
    },
    {
      "cell_type": "code",
      "execution_count": 29,
      "metadata": {
        "id": "QpkrG8nAlysd"
      },
      "outputs": [],
      "source": [
        "from langchain.agents import create_react_agent, AgentExecutor\n",
        "from langchain import hub"
      ]
    },
    {
      "cell_type": "code",
      "execution_count": 30,
      "metadata": {
        "colab": {
          "base_uri": "https://localhost:8080/"
        },
        "id": "upsYmEP97Fk0",
        "outputId": "785e378e-b472-46e1-d8ee-7f971b6b3094"
      },
      "outputs": [
        {
          "name": "stderr",
          "output_type": "stream",
          "text": [
            "c:\\Users\\csinaywe\\fastapi-workspace\\langchain_models\\venv\\Lib\\site-packages\\langsmith\\client.py:272: LangSmithMissingAPIKeyWarning: API key must be provided when using hosted LangSmith API\n",
            "  warnings.warn(\n"
          ]
        }
      ],
      "source": [
        "# Step 2: Pull the ReAct prompt from LangChain Hub\n",
        "prompt = hub.pull(\"hwchase17/react\")  # pulls the standard ReAct agent prompt\n"
      ]
    },
    {
      "cell_type": "code",
      "execution_count": 31,
      "metadata": {
        "id": "46OsNvahYoXO"
      },
      "outputs": [],
      "source": [
        "# Step 3: Create the ReAct agent manually with the pulled prompt\n",
        "agent = create_react_agent(\n",
        "    llm=llm,\n",
        "    tools=[search_tool, get_weather_data],\n",
        "    prompt=prompt\n",
        ")"
      ]
    },
    {
      "cell_type": "code",
      "execution_count": 32,
      "metadata": {
        "id": "n_eQWa9qYqVN"
      },
      "outputs": [],
      "source": [
        "# Step 4: Wrap it with AgentExecutor\n",
        "agent_executor = AgentExecutor(\n",
        "    agent=agent,\n",
        "    tools=[search_tool, get_weather_data],\n",
        "    verbose=True\n",
        ")"
      ]
    },
    {
      "cell_type": "code",
      "execution_count": 33,
      "metadata": {
        "colab": {
          "base_uri": "https://localhost:8080/"
        },
        "id": "4731_FTsYsJT",
        "outputId": "e8ff82ef-4e44-4324-a379-b0e2ebb6ef88"
      },
      "outputs": [
        {
          "name": "stdout",
          "output_type": "stream",
          "text": [
            "\n",
            "\n",
            "\u001b[1m> Entering new AgentExecutor chain...\u001b[0m\n",
            "\u001b[32;1m\u001b[1;3mThought: To find the capital of Madhya Pradesh and its current weather condition, I'll need to use a combination of tools.\n",
            "\n",
            "Action: simple_search_tool\n",
            "Action Input: \"capital of Madhya Pradesh\"\u001b[0m\u001b[36;1m\u001b[1;3mBhopal is the capital of Madhya Pradesh, India.\u001b[0m\u001b[32;1m\u001b[1;3mThought: To find the capital of Madhya Pradesh and its current weather condition, I'll need to use a combination of tools.\n",
            "\n",
            "Action: simple_search_tool\n",
            "Action Input: \"capital of Madhya Pradesh\"\u001b[0m\u001b[36;1m\u001b[1;3mBhopal is the capital of Madhya Pradesh, India.\u001b[0m\u001b[32;1m\u001b[1;3mThought: Now that I know the capital of Madhya Pradesh is Bhopal, I need to find its current weather condition.\n",
            "\n",
            "Action: get_weather_data\n",
            "Action Input: \"Bhopal\"\u001b[0m\u001b[32;1m\u001b[1;3mThought: Now that I know the capital of Madhya Pradesh is Bhopal, I need to find its current weather condition.\n",
            "\n",
            "Action: get_weather_data\n",
            "Action Input: \"Bhopal\"\u001b[0m\u001b[33;1m\u001b[1;3m{'request': {'type': 'City', 'query': 'Bhopal, India', 'language': 'en', 'unit': 'm'}, 'location': {'name': 'Bhopal', 'country': 'India', 'region': 'Madhya Pradesh', 'lat': '23.267', 'lon': '77.400', 'timezone_id': 'Asia/Kolkata', 'localtime': '2025-09-05 16:05', 'localtime_epoch': 1757088300, 'utc_offset': '5.50'}, 'current': {'observation_time': '10:35 AM', 'temperature': 26, 'weather_code': 266, 'weather_icons': ['https://cdn.worldweatheronline.com/images/wsymbols01_png_64/wsymbol_0017_cloudy_with_light_rain.png'], 'weather_descriptions': ['Drizzle'], 'astro': {'sunrise': '06:04 AM', 'sunset': '06:34 PM', 'moonrise': '05:06 PM', 'moonset': '03:21 AM', 'moon_phase': 'Waxing Gibbous', 'moon_illumination': 91}, 'air_quality': {'co': '503.2', 'no2': '6.475', 'o3': '60', 'so2': '10.175', 'pm2_5': '13.505', 'pm10': '17.575', 'us-epa-index': '1', 'gb-defra-index': '1'}, 'wind_speed': 17, 'wind_degree': 186, 'wind_dir': 'S', 'pressure': 1004, 'precip': 0.2, 'humidity': 84, 'cloudcover': 75, 'feelslike': 30, 'uv_index': 1, 'visibility': 4, 'is_day': 'yes'}}\u001b[0m\u001b[33;1m\u001b[1;3m{'request': {'type': 'City', 'query': 'Bhopal, India', 'language': 'en', 'unit': 'm'}, 'location': {'name': 'Bhopal', 'country': 'India', 'region': 'Madhya Pradesh', 'lat': '23.267', 'lon': '77.400', 'timezone_id': 'Asia/Kolkata', 'localtime': '2025-09-05 16:05', 'localtime_epoch': 1757088300, 'utc_offset': '5.50'}, 'current': {'observation_time': '10:35 AM', 'temperature': 26, 'weather_code': 266, 'weather_icons': ['https://cdn.worldweatheronline.com/images/wsymbols01_png_64/wsymbol_0017_cloudy_with_light_rain.png'], 'weather_descriptions': ['Drizzle'], 'astro': {'sunrise': '06:04 AM', 'sunset': '06:34 PM', 'moonrise': '05:06 PM', 'moonset': '03:21 AM', 'moon_phase': 'Waxing Gibbous', 'moon_illumination': 91}, 'air_quality': {'co': '503.2', 'no2': '6.475', 'o3': '60', 'so2': '10.175', 'pm2_5': '13.505', 'pm10': '17.575', 'us-epa-index': '1', 'gb-defra-index': '1'}, 'wind_speed': 17, 'wind_degree': 186, 'wind_dir': 'S', 'pressure': 1004, 'precip': 0.2, 'humidity': 84, 'cloudcover': 75, 'feelslike': 30, 'uv_index': 1, 'visibility': 4, 'is_day': 'yes'}}\u001b[0m\u001b[32;1m\u001b[1;3mThought: Now that I have the current weather condition for Bhopal, Madhya Pradesh, I can combine this information with the capital of Madhya Pradesh to provide a complete answer.\n",
            "\n",
            "Action: None needed at this point. The required information has been gathered.\n",
            "\n",
            "Thought: I now know the final answer.\n",
            "\n",
            "Final Answer: The capital of Madhya Pradesh is Bhopal, and its current weather condition is Drizzle with a temperature of 26 degrees Celsius.\u001b[0m\n",
            "\n",
            "\u001b[1m> Finished chain.\u001b[0m\n",
            "{'input': \"Find the capital of Madhya Pradesh, then find it's current weather condition\", 'output': 'The capital of Madhya Pradesh is Bhopal, and its current weather condition is Drizzle with a temperature of 26 degrees Celsius.'}\n",
            "\u001b[32;1m\u001b[1;3mThought: Now that I have the current weather condition for Bhopal, Madhya Pradesh, I can combine this information with the capital of Madhya Pradesh to provide a complete answer.\n",
            "\n",
            "Action: None needed at this point. The required information has been gathered.\n",
            "\n",
            "Thought: I now know the final answer.\n",
            "\n",
            "Final Answer: The capital of Madhya Pradesh is Bhopal, and its current weather condition is Drizzle with a temperature of 26 degrees Celsius.\u001b[0m\n",
            "\n",
            "\u001b[1m> Finished chain.\u001b[0m\n",
            "{'input': \"Find the capital of Madhya Pradesh, then find it's current weather condition\", 'output': 'The capital of Madhya Pradesh is Bhopal, and its current weather condition is Drizzle with a temperature of 26 degrees Celsius.'}\n"
          ]
        }
      ],
      "source": [
        "# Step 5: Invoke\n",
        "response = agent_executor.invoke({\"input\": \"Find the capital of Madhya Pradesh, then find it's current weather condition\"})\n",
        "print(response)"
      ]
    },
    {
      "cell_type": "code",
      "execution_count": 34,
      "metadata": {
        "colab": {
          "base_uri": "https://localhost:8080/",
          "height": 35
        },
        "id": "dISl6fzqZKfU",
        "outputId": "e2c9f778-4108-43cb-e393-3052b2347fef"
      },
      "outputs": [
        {
          "data": {
            "text/plain": [
              "'The capital of Madhya Pradesh is Bhopal, and its current weather condition is Drizzle with a temperature of 26 degrees Celsius.'"
            ]
          },
          "execution_count": 34,
          "metadata": {},
          "output_type": "execute_result"
        }
      ],
      "source": [
        "response['output']"
      ]
    }
  ],
  "metadata": {
    "colab": {
      "provenance": []
    },
    "kernelspec": {
      "display_name": "venv",
      "language": "python",
      "name": "python3"
    },
    "language_info": {
      "codemirror_mode": {
        "name": "ipython",
        "version": 3
      },
      "file_extension": ".py",
      "mimetype": "text/x-python",
      "name": "python",
      "nbconvert_exporter": "python",
      "pygments_lexer": "ipython3",
      "version": "3.11.5"
    }
  },
  "nbformat": 4,
  "nbformat_minor": 0
}
