{
  "cells": [
    {
      "cell_type": "code",
      "execution_count": 27,
      "metadata": {
        "id": "qQB78FuUIWpM"
      },
      "outputs": [],
      "source": [
        "# Setup for Ollama agent\n",
        "import os"
      ]
    },
    {
      "cell_type": "code",
      "execution_count": 28,
      "metadata": {
        "id": "Iq8oB6ezIilj"
      },
      "outputs": [
        {
          "name": "stdout",
          "output_type": "stream",
          "text": [
            "Note: you may need to restart the kernel to use updated packages.\n"
          ]
        },
        {
          "name": "stderr",
          "output_type": "stream",
          "text": [
            "ERROR: Could not find a version that satisfies the requirement langchain-hub (from versions: none)\n",
            "ERROR: No matching distribution found for langchain-hub\n"
          ]
        }
      ],
      "source": [
        "pip install -q langchain-ollama langchain-community langchain-core requests duckduckgo-search ddgs langchain langchain-hub"
      ]
    },
    {
      "cell_type": "code",
      "execution_count": 29,
      "metadata": {
        "id": "NCeTJQRRIuH5"
      },
      "outputs": [],
      "source": [
        "from langchain_ollama import ChatOllama\n",
        "from langchain_core.tools import tool\n",
        "import requests"
      ]
    },
    {
      "cell_type": "code",
      "execution_count": 30,
      "metadata": {
        "id": "Zbj_Y6W2I8Br"
      },
      "outputs": [],
      "source": [
        "# Create a simple search tool to avoid network issues\n",
        "from langchain_core.tools import tool\n",
        "\n",
        "@tool\n",
        "def simple_search_tool(query: str) -> str:\n",
        "    \"\"\"Search for information. This is a mock search tool.\"\"\"\n",
        "    return f\"Mock search results for: {query}. This would normally return web search results.\"\n",
        "\n",
        "# Use the simple search tool\n",
        "search_tool = simple_search_tool\n",
        "results = search_tool.invoke('top news in india today')"
      ]
    },
    {
      "cell_type": "code",
      "execution_count": 31,
      "metadata": {
        "colab": {
          "base_uri": "https://localhost:8080/",
          "height": 122
        },
        "id": "tVMZEIr6JHNG",
        "outputId": "92c6331d-326b-4c3d-da33-4a82ca36da14"
      },
      "outputs": [
        {
          "data": {
            "text/plain": [
              "'Mock search results for: top news in india today. This would normally return web search results.'"
            ]
          },
          "execution_count": 31,
          "metadata": {},
          "output_type": "execute_result"
        }
      ],
      "source": [
        "results\n"
      ]
    },
    {
      "cell_type": "code",
      "execution_count": 32,
      "metadata": {
        "colab": {
          "base_uri": "https://localhost:8080/",
          "height": 339
        },
        "id": "4OtTbxmzJ0VU",
        "outputId": "a6660f27-80dc-4825-b8a1-db7c92a74e8f"
      },
      "outputs": [],
      "source": [
        "llm = ChatOllama(\n",
        "    model=\"llama3:latest\",  # Fixed: using colon instead of dot\n",
        "    temperature=0\n",
        ")"
      ]
    },
    {
      "cell_type": "code",
      "execution_count": 33,
      "metadata": {
        "id": "HXANH2dBJ50x"
      },
      "outputs": [
        {
          "data": {
            "text/plain": [
              "AIMessage(content=\"Hi! It's nice to meet you. Is there something I can help you with, or would you like to chat?\", additional_kwargs={}, response_metadata={'model': 'llama3:latest', 'created_at': '2025-09-05T10:44:38.9118913Z', 'done': True, 'done_reason': 'stop', 'total_duration': 57872399300, 'load_duration': 698195300, 'prompt_eval_count': 11, 'prompt_eval_duration': 791440700, 'eval_count': 26, 'eval_duration': 5287192000, 'model_name': 'llama3:latest'}, id='run--75cf96c7-a47e-4c2a-9f09-8fd7081ab88b-0', usage_metadata={'input_tokens': 11, 'output_tokens': 26, 'total_tokens': 37})"
            ]
          },
          "execution_count": 33,
          "metadata": {},
          "output_type": "execute_result"
        }
      ],
      "source": [
        "llm.invoke('hi')"
      ]
    },
    {
      "cell_type": "code",
      "execution_count": 34,
      "metadata": {
        "id": "BI1nh0vdJ9Vg"
      },
      "outputs": [],
      "source": [
        "from langchain.agents import create_react_agent , AgentExecutor\n",
        "from langchain import hub"
      ]
    },
    {
      "cell_type": "code",
      "execution_count": 35,
      "metadata": {
        "id": "MDtIk2UBKK47"
      },
      "outputs": [
        {
          "name": "stderr",
          "output_type": "stream",
          "text": [
            "c:\\Users\\csinaywe\\fastapi-workspace\\langchain_models\\venv\\Lib\\site-packages\\langsmith\\client.py:272: LangSmithMissingAPIKeyWarning: API key must be provided when using hosted LangSmith API\n",
            "  warnings.warn(\n"
          ]
        }
      ],
      "source": [
        "#step 2 pull the eract prmpt from langchain hub\n",
        "prompt = hub.pull(\"hwchase17/react\")  #pulls the standard react agent prompt here react = reasoning + action , lot of ai agents are there , thenfollow some design patterns\n",
        "\n"
      ]
    },
    {
      "cell_type": "markdown",
      "metadata": {
        "id": "Teb3-N4TKWWg"
      },
      "source": []
    },
    {
      "cell_type": "code",
      "execution_count": 36,
      "metadata": {
        "id": "54SXRKaMKYbQ"
      },
      "outputs": [],
      "source": [
        "#step 3 create the react agent manually with the pulled prompt\n",
        "agent = create_react_agent(\n",
        "    llm =llm,\n",
        "    tools= [search_tool],\n",
        "    prompt = prompt\n",
        ")"
      ]
    },
    {
      "cell_type": "code",
      "execution_count": 37,
      "metadata": {
        "id": "BP8x3xW4K3n0"
      },
      "outputs": [],
      "source": [
        "# step 4 wrap it with AgentExecutor : agent : it is the main guy, planning , problem breakdown, decide, AgentExecutor : It is the guy who obeys AgentExedutor and executes it.\n",
        "agent_executor = AgentExecutor(\n",
        "    agent =agent,\n",
        "    tools = [search_tool],\n",
        "    verbose = True #whatever agent is thinking will be visible to us\n",
        ")"
      ]
    },
    {
      "cell_type": "code",
      "execution_count": null,
      "metadata": {
        "id": "1iH2acy2LILE"
      },
      "outputs": [
        {
          "name": "stdout",
          "output_type": "stream",
          "text": [
            "\n",
            "\n",
            "\u001b[1m> Entering new AgentExecutor chain...\u001b[0m\n",
            "\u001b[32;1m\u001b[1;3mLet's start answering the question.\n",
            "\n",
            "Thought: To find the ways to reach Goa from Delhi, I should use a search tool to gather information.\n",
            "\n",
            "Action: simple_search_tool\n",
            "Action Input: \"ways to reach Goa from Delhi\"\u001b[0m\u001b[36;1m\u001b[1;3mMock search results for: ways to reach Goa from Delhi. This would normally return web search results.\u001b[0m\u001b[32;1m\u001b[1;3mLet's start answering the question.\n",
            "\n",
            "Thought: To find the ways to reach Goa from Delhi, I should use a search tool to gather information.\n",
            "\n",
            "Action: simple_search_tool\n",
            "Action Input: \"ways to reach Goa from Delhi\"\u001b[0m\u001b[36;1m\u001b[1;3mMock search results for: ways to reach Goa from Delhi. This would normally return web search results.\u001b[0m\u001b[32;1m\u001b[1;3mHere's my attempt at answering the question:\n",
            "\n",
            "Question: 3 ways to reach goa from delhi\n",
            "Thought: Let's start answering the question.\n",
            "\n",
            "Thought: To find the ways to reach Goa from Delhi, I should use a search tool to gather information.\n",
            "\n",
            "Action: simple_search_tool\n",
            "Action Input: \"ways to reach Goa from Delhi\"\u001b[0m\u001b[36;1m\u001b[1;3mMock search results for: ways to reach Goa from Delhi. This would normally return web search results.\u001b[0m\u001b[32;1m\u001b[1;3mHere's my attempt at answering the question:\n",
            "\n",
            "Question: 3 ways to reach goa from delhi\n",
            "Thought: Let's start answering the question.\n",
            "\n",
            "Thought: To find the ways to reach Goa from Delhi, I should use a search tool to gather information.\n",
            "\n",
            "Action: simple_search_tool\n",
            "Action Input: \"ways to reach Goa from Delhi\"\u001b[0m\u001b[36;1m\u001b[1;3mMock search results for: ways to reach Goa from Delhi. This would normally return web search results.\u001b[0m\u001b[32;1m\u001b[1;3mHere's my attempt at answering the question:\n",
            "\n",
            "Question: 3 ways to reach goa from delhi\n",
            "Thought: Let's start answering the question.\n",
            "\n",
            "Thought: To find the ways to reach Goa from Delhi, I should use a search tool to gather information.\n",
            "\n",
            "Action: simple_search_tool\n",
            "Action Input: \"ways to reach Goa from Delhi\"\u001b[0m\u001b[36;1m\u001b[1;3mMock search results for: ways to reach Goa from Delhi. This would normally return web search results.\u001b[0m\u001b[32;1m\u001b[1;3mHere's my attempt at answering the question:\n",
            "\n",
            "Question: 3 ways to reach goa from delhi\n",
            "Thought: Let's start answering the question.\n",
            "\n",
            "Thought: To find the ways to reach Goa from Delhi, I should use a search tool to gather information.\n",
            "\n",
            "Action: simple_search_tool\n",
            "Action Input: \"ways to reach Goa from Delhi\"\u001b[0m\u001b[36;1m\u001b[1;3mMock search results for: ways to reach Goa from Delhi. This would normally return web search results.\u001b[0m\u001b[32;1m\u001b[1;3mLet's start answering the question!\n",
            "\n",
            "Thought: To find the ways to reach Goa from Delhi, I should use a search tool to gather information.\n",
            "\n",
            "Action: simple_search_tool\n",
            "Action Input: \"ways to reach Goa from Delhi\"\u001b[0m\u001b[36;1m\u001b[1;3mMock search results for: ways to reach Goa from Delhi. This would normally return web search results.\u001b[0m\u001b[32;1m\u001b[1;3mLet's start answering the question!\n",
            "\n",
            "Thought: To find the ways to reach Goa from Delhi, I should use a search tool to gather information.\n",
            "\n",
            "Action: simple_search_tool\n",
            "Action Input: \"ways to reach Goa from Delhi\"\u001b[0m\u001b[36;1m\u001b[1;3mMock search results for: ways to reach Goa from Delhi. This would normally return web search results.\u001b[0m\u001b[32;1m\u001b[1;3mLet's start answering the question!\n",
            "\n",
            "Thought: To find the ways to reach Goa from Delhi, I should use a search tool to gather information.\n",
            "\n",
            "Action: simple_search_tool\n",
            "Action Input: \"ways to reach Goa from Delhi\"\u001b[0m\u001b[36;1m\u001b[1;3mMock search results for: ways to reach Goa from Delhi. This would normally return web search results.\u001b[0m\u001b[32;1m\u001b[1;3mLet's start answering the question!\n",
            "\n",
            "Thought: To find the ways to reach Goa from Delhi, I should use a search tool to gather information.\n",
            "\n",
            "Action: simple_search_tool\n",
            "Action Input: \"ways to reach Goa from Delhi\"\u001b[0m\u001b[36;1m\u001b[1;3mMock search results for: ways to reach Goa from Delhi. This would normally return web search results.\u001b[0m\u001b[32;1m\u001b[1;3mLet's start answering the question!\n",
            "\n",
            "Thought: To find the ways to reach Goa from Delhi, I should use a search tool to gather information.\n",
            "\n",
            "Action: simple_search_tool\n",
            "Action Input: \"ways to reach Goa from Delhi\"\u001b[0m\u001b[36;1m\u001b[1;3mMock search results for: ways to reach Goa from Delhi. This would normally return web search results.\u001b[0m\u001b[32;1m\u001b[1;3mLet's start answering the question!\n",
            "\n",
            "Thought: To find the ways to reach Goa from Delhi, I should use a search tool to gather information.\n",
            "\n",
            "Action: simple_search_tool\n",
            "Action Input: \"ways to reach Goa from Delhi\"\u001b[0m\u001b[36;1m\u001b[1;3mMock search results for: ways to reach Goa from Delhi. This would normally return web search results.\u001b[0m\u001b[32;1m\u001b[1;3mLet's get started!\n",
            "\n",
            "Question: 3 ways to reach goa from delhi\n",
            "Thought: Let's start answering the question.\n",
            "\n",
            "Thought: To find the ways to reach Goa from Delhi, I should use a search tool to gather information.\n",
            "\n",
            "Action: simple_search_tool\n",
            "Action Input: \"ways to reach Goa from Delhi\"\u001b[0m\u001b[36;1m\u001b[1;3mMock search results for: ways to reach Goa from Delhi. This would normally return web search results.\u001b[0m\u001b[32;1m\u001b[1;3mLet's get started!\n",
            "\n",
            "Question: 3 ways to reach goa from delhi\n",
            "Thought: Let's start answering the question.\n",
            "\n",
            "Thought: To find the ways to reach Goa from Delhi, I should use a search tool to gather information.\n",
            "\n",
            "Action: simple_search_tool\n",
            "Action Input: \"ways to reach Goa from Delhi\"\u001b[0m\u001b[36;1m\u001b[1;3mMock search results for: ways to reach Goa from Delhi. This would normally return web search results.\u001b[0m\u001b[32;1m\u001b[1;3mLet's get started!\n",
            "\n",
            "Question: 3 ways to reach goa from delhi\n",
            "Thought: Let's start answering the question.\n",
            "\n",
            "Thought: To find the ways to reach Goa from Delhi, I should use a search tool to gather information.\n",
            "\n",
            "Action: simple_search_tool\n",
            "Action Input: \"ways to reach Goa from Delhi\"\u001b[0m\u001b[36;1m\u001b[1;3mMock search results for: ways to reach Goa from Delhi. This would normally return web search results.\u001b[0m\u001b[32;1m\u001b[1;3mLet's get started!\n",
            "\n",
            "Question: 3 ways to reach goa from delhi\n",
            "Thought: Let's start answering the question.\n",
            "\n",
            "Thought: To find the ways to reach Goa from Delhi, I should use a search tool to gather information.\n",
            "\n",
            "Action: simple_search_tool\n",
            "Action Input: \"ways to reach Goa from Delhi\"\u001b[0m\u001b[36;1m\u001b[1;3mMock search results for: ways to reach Goa from Delhi. This would normally return web search results.\u001b[0m\u001b[32;1m\u001b[1;3mLet's start answering the question!\n",
            "\n",
            "Thought: To find the ways to reach Goa from Delhi, I should use a search tool to gather information.\n",
            "\n",
            "Action: simple_search_tool\n",
            "Action Input: \"ways to reach Goa from Delhi\"\u001b[0m\u001b[36;1m\u001b[1;3mMock search results for: ways to reach Goa from Delhi. This would normally return web search results.\u001b[0m\u001b[32;1m\u001b[1;3mLet's start answering the question!\n",
            "\n",
            "Thought: To find the ways to reach Goa from Delhi, I should use a search tool to gather information.\n",
            "\n",
            "Action: simple_search_tool\n",
            "Action Input: \"ways to reach Goa from Delhi\"\u001b[0m\u001b[36;1m\u001b[1;3mMock search results for: ways to reach Goa from Delhi. This would normally return web search results.\u001b[0m\u001b[32;1m\u001b[1;3mLet's get started!\n",
            "\n",
            "Question: 3 ways to reach goa from delhi\n",
            "Thought: Let's start answering the question.\n",
            "\n",
            "Thought: To find the ways to reach Goa from Delhi, I should use a search tool to gather information.\n",
            "\n",
            "Action: simple_search_tool\n",
            "Action Input: \"ways to reach Goa from Delhi\"\u001b[0m\u001b[36;1m\u001b[1;3mMock search results for: ways to reach Goa from Delhi. This would normally return web search results.\u001b[0m\u001b[32;1m\u001b[1;3mLet's get started!\n",
            "\n",
            "Question: 3 ways to reach goa from delhi\n",
            "Thought: Let's start answering the question.\n",
            "\n",
            "Thought: To find the ways to reach Goa from Delhi, I should use a search tool to gather information.\n",
            "\n",
            "Action: simple_search_tool\n",
            "Action Input: \"ways to reach Goa from Delhi\"\u001b[0m\u001b[36;1m\u001b[1;3mMock search results for: ways to reach Goa from Delhi. This would normally return web search results.\u001b[0m\u001b[32;1m\u001b[1;3mLet's get started!\n",
            "\n",
            "Question: 3 ways to reach goa from delhi\n",
            "Thought: Let's start answering the question.\n",
            "\n",
            "Thought: To find the ways to reach Goa from Delhi, I should use a search tool to gather information.\n",
            "\n",
            "Action: simple_search_tool\n",
            "Action Input: \"ways to reach Goa from Delhi\"\u001b[0m\u001b[36;1m\u001b[1;3mMock search results for: ways to reach Goa from Delhi. This would normally return web search results.\u001b[0m\u001b[32;1m\u001b[1;3mLet's get started!\n",
            "\n",
            "Question: 3 ways to reach goa from delhi\n",
            "Thought: Let's start answering the question.\n",
            "\n",
            "Thought: To find the ways to reach Goa from Delhi, I should use a search tool to gather information.\n",
            "\n",
            "Action: simple_search_tool\n",
            "Action Input: \"ways to reach Goa from Delhi\"\u001b[0m\u001b[36;1m\u001b[1;3mMock search results for: ways to reach Goa from Delhi. This would normally return web search results.\u001b[0m\u001b[32;1m\u001b[1;3mLet's start answering the question!\n",
            "\n",
            "Thought: To find the ways to reach Goa from Delhi, I should use a search tool to gather information.\n",
            "\n",
            "Action: simple_search_tool\n",
            "Action Input: \"ways to reach Goa from Delhi\"\u001b[0m\u001b[36;1m\u001b[1;3mMock search results for: ways to reach Goa from Delhi. This would normally return web search results.\u001b[0m\u001b[32;1m\u001b[1;3mLet's start answering the question!\n",
            "\n",
            "Thought: To find the ways to reach Goa from Delhi, I should use a search tool to gather information.\n",
            "\n",
            "Action: simple_search_tool\n",
            "Action Input: \"ways to reach Goa from Delhi\"\u001b[0m\u001b[36;1m\u001b[1;3mMock search results for: ways to reach Goa from Delhi. This would normally return web search results.\u001b[0m"
          ]
        }
      ],
      "source": [
        "# step Invoke :\n",
        "\n",
        "response = agent_executor.invoke({'input':'3 ways to reach goa from delhi'})\n",
        "print(response)"
      ]
    },
    {
      "cell_type": "code",
      "execution_count": null,
      "metadata": {
        "id": "ymPodWyIMNVj"
      },
      "outputs": [
        {
          "data": {
            "text/plain": [
              "'Agent stopped due to iteration limit or time limit.'"
            ]
          },
          "execution_count": 26,
          "metadata": {},
          "output_type": "execute_result"
        }
      ],
      "source": [
        "response['output']"
      ]
    },
    {
      "cell_type": "code",
      "execution_count": null,
      "metadata": {
        "id": "ZtLIGBooMKCy"
      },
      "outputs": [],
      "source": []
    }
  ],
  "metadata": {
    "colab": {
      "provenance": []
    },
    "kernelspec": {
      "display_name": "venv",
      "language": "python",
      "name": "python3"
    },
    "language_info": {
      "codemirror_mode": {
        "name": "ipython",
        "version": 3
      },
      "file_extension": ".py",
      "mimetype": "text/x-python",
      "name": "python",
      "nbconvert_exporter": "python",
      "pygments_lexer": "ipython3",
      "version": "3.11.5"
    }
  },
  "nbformat": 4,
  "nbformat_minor": 0
}
