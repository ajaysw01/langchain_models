{
 "cells": [
  {
   "cell_type": "code",
   "execution_count": null,
   "id": "34e12e99",
   "metadata": {},
   "outputs": [],
   "source": [
    "!pip install langchain chromadb  tiktoken pypdf langchain_ollama  langchain-community langchain_chroma"
   ]
  },
  {
   "cell_type": "code",
   "execution_count": null,
   "id": "fb93eee4",
   "metadata": {},
   "outputs": [],
   "source": [
    "from langchain_ollama import OllamaEmbeddings\n",
    "from langchain_chroma import Chroma"
   ]
  },
  {
   "cell_type": "code",
   "execution_count": null,
   "id": "2feedc81",
   "metadata": {},
   "outputs": [],
   "source": [
    "from langchain.schema import Document\n",
    "# create langchain documents for ipl players\n",
    "doc1 = Document(\n",
    "        page_content=\"Virat Kohli is one of the most successful and consistent batsmen in IPL history. Known for his aggressive batting style and fitness, he has led the Royal Challengers Bangalore in multiple seasons.\",\n",
    "        metadata={\"team\": \"Royal Challengers Bangalore\"}\n",
    "    )\n",
    "doc2 = Document(\n",
    "        page_content=\"Rohit Sharma is the most successful captain in IPL history, leading Mumbai Indians to five titles. He's known for his calm demeanor and ability to play big innings under pressure.\",\n",
    "        metadata={\"team\": \"Mumbai Indians\"}\n",
    "    )\n",
    "doc3 = Document(\n",
    "        page_content=\"MS Dhoni, famously known as Captain Cool, has led Chennai Super Kings to multiple IPL titles. His finishing skills, wicketkeeping, and leadership are legendary.\",\n",
    "        metadata={\"team\": \"Chennai Super Kings\"}\n",
    "    )\n",
    "doc4 = Document(\n",
    "        page_content=\"Jasprit Bumrah is considered one of the best fast bowlers in T20 cricket. Playing for Mumbai Indians, he is known for his yorkers and death-over expertise.\",\n",
    "        metadata={\"team\": \"Mumbai Indians\"}\n",
    "    )\n",
    "doc5 = Document(\n",
    "        page_content=\"Ravindra Jadeja is a dynamic all-rounder who contributes with both bat and ball. Representing Chennai Super Kings, his quick fielding and match-winning performances make him a key player.\",\n",
    "        metadata={\"team\": \"Chennai Super Kings\"}\n",
    "    )"
   ]
  },
  {
   "cell_type": "code",
   "execution_count": null,
   "id": "1e515e5c",
   "metadata": {},
   "outputs": [],
   "source": [
    "docs = [doc1,doc2,doc3,doc4,doc5]"
   ]
  },
  {
   "cell_type": "code",
   "execution_count": null,
   "id": "3fd91ced",
   "metadata": {},
   "outputs": [],
   "source": [
    "vector_store = Chroma(\n",
    "  embedding_function=OllamaEmbeddings(model='llama3:latest'),\n",
    "  persist_directory='my_chroma_db',\n",
    "  collection_name='sample'\n",
    ")"
   ]
  },
  {
   "cell_type": "code",
   "execution_count": null,
   "id": "3e7ab33b",
   "metadata": {},
   "outputs": [],
   "source": [
    "# add documents \n",
    "vector_store.add_documents(docs)"
   ]
  },
  {
   "cell_type": "code",
   "execution_count": null,
   "id": "9696051f",
   "metadata": {},
   "outputs": [],
   "source": [
    "vector_store.get(include=['embeddings','embeddings','documents'])"
   ]
  },
  {
   "cell_type": "code",
   "execution_count": null,
   "id": "bbcc7715",
   "metadata": {},
   "outputs": [],
   "source": [
    "# search documents\n",
    "vector_store.similarity_search(\n",
    "  query='which players are bowlers',\n",
    "  k=2  #number of similar documents to return\n",
    ")"
   ]
  },
  {
   "cell_type": "code",
   "execution_count": null,
   "id": "9367d030",
   "metadata": {},
   "outputs": [],
   "source": [
    "# search documentsw with score\n",
    "vector_store.similarity_search_with_score(\n",
    "  query='which players are bowlers',\n",
    "  k=2  #number of similar documents to return\n",
    ")"
   ]
  },
  {
   "cell_type": "code",
   "execution_count": null,
   "id": "6e3a0cbc",
   "metadata": {},
   "outputs": [],
   "source": [
    "# meta data filtering\n",
    "vector_store.similarity_search_with_score(\n",
    "  query='',\n",
    "  filter={'team':'Chennai Super Kings'}\n",
    ")"
   ]
  },
  {
   "cell_type": "markdown",
   "id": "d6a20e93",
   "metadata": {},
   "source": []
  },
  {
   "cell_type": "code",
   "execution_count": null,
   "id": "26129dd1",
   "metadata": {},
   "outputs": [],
   "source": [
    "#update documents\n",
    "updated_doc1 = Document(\n",
    "    page_content=\"Virat Kohli, the former captain of Royal Challengers Bangalore (RCB), is renowned for his aggressive leadership and consistent batting performances. He holds the record for the most runs in IPL history, including multiple centuries in a single season. Despite RCB not winning an IPL title under his captaincy, Kohli's passion and fitness set a benchmark for the league. His ability to chase targets and anchor innings has made him one of the most dependable players in T20 cricket.\",\n",
    "    metadata={\"team\": \"Royal Challengers Bangalore\"}\n",
    ")\n",
    "vector_store.update_document(document_id='7b0dab16-b662-4bcb-8616-851ff8b54c03',document=updated_doc1)"
   ]
  },
  {
   "cell_type": "code",
   "execution_count": null,
   "id": "b3bc83b6",
   "metadata": {},
   "outputs": [],
   "source": [
    "# view documents\n",
    "vector_store.get(include=['embeddings','documents', 'metadatas'])"
   ]
  },
  {
   "cell_type": "code",
   "execution_count": null,
   "id": "ca31e3f6",
   "metadata": {},
   "outputs": [],
   "source": [
    "# delete document\n",
    "vector_store.delete(ids=['09a39dc6-3ba6-4ea7-927e-fdda591da5e4'])"
   ]
  },
  {
   "cell_type": "code",
   "execution_count": null,
   "id": "727ac9ab",
   "metadata": {},
   "outputs": [],
   "source": [
    "# view documents\n",
    "vector_store.get(include=['embeddings','documents', 'metadatas'])"
   ]
  }
 ],
 "metadata": {
  "kernelspec": {
   "display_name": "venv",
   "language": "python",
   "name": "python3"
  },
  "language_info": {
   "codemirror_mode": {
    "name": "ipython",
    "version": 3
   },
   "file_extension": ".py",
   "mimetype": "text/x-python",
   "name": "python",
   "nbconvert_exporter": "python",
   "pygments_lexer": "ipython3",
   "version": "3.11.5"
  }
 },
 "nbformat": 4,
 "nbformat_minor": 5
}
