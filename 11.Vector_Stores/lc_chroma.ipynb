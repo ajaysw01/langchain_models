{
 "cells": [
  {
   "cell_type": "code",
   "execution_count": 41,
   "id": "34e12e99",
   "metadata": {},
   "outputs": [
    {
     "name": "stdout",
     "output_type": "stream",
     "text": [
      "Requirement already satisfied: langchain in c:\\users\\csinaywe\\fastapi-workspace\\langchain_models\\venv\\lib\\site-packages (0.3.27)\n",
      "Requirement already satisfied: chromadb in c:\\users\\csinaywe\\fastapi-workspace\\langchain_models\\venv\\lib\\site-packages (1.0.20)\n",
      "Requirement already satisfied: tiktoken in c:\\users\\csinaywe\\fastapi-workspace\\langchain_models\\venv\\lib\\site-packages (0.9.0)\n",
      "Requirement already satisfied: pypdf in c:\\users\\csinaywe\\fastapi-workspace\\langchain_models\\venv\\lib\\site-packages (6.0.0)\n",
      "Requirement already satisfied: langchain_ollama in c:\\users\\csinaywe\\fastapi-workspace\\langchain_models\\venv\\lib\\site-packages (0.3.7)\n",
      "Requirement already satisfied: langchain-community in c:\\users\\csinaywe\\fastapi-workspace\\langchain_models\\venv\\lib\\site-packages (0.3.27)\n",
      "Requirement already satisfied: langchain_chroma in c:\\users\\csinaywe\\fastapi-workspace\\langchain_models\\venv\\lib\\site-packages (0.2.5)\n",
      "Requirement already satisfied: langchain-core<1.0.0,>=0.3.72 in c:\\users\\csinaywe\\fastapi-workspace\\langchain_models\\venv\\lib\\site-packages (from langchain) (0.3.74)\n",
      "Requirement already satisfied: langchain-text-splitters<1.0.0,>=0.3.9 in c:\\users\\csinaywe\\fastapi-workspace\\langchain_models\\venv\\lib\\site-packages (from langchain) (0.3.9)\n",
      "Requirement already satisfied: langsmith>=0.1.17 in c:\\users\\csinaywe\\fastapi-workspace\\langchain_models\\venv\\lib\\site-packages (from langchain) (0.4.15)\n",
      "Requirement already satisfied: pydantic<3.0.0,>=2.7.4 in c:\\users\\csinaywe\\fastapi-workspace\\langchain_models\\venv\\lib\\site-packages (from langchain) (2.11.7)\n",
      "Requirement already satisfied: SQLAlchemy<3,>=1.4 in c:\\users\\csinaywe\\fastapi-workspace\\langchain_models\\venv\\lib\\site-packages (from langchain) (2.0.43)\n",
      "Requirement already satisfied: requests<3,>=2 in c:\\users\\csinaywe\\fastapi-workspace\\langchain_models\\venv\\lib\\site-packages (from langchain) (2.32.5)\n",
      "Requirement already satisfied: PyYAML>=5.3 in c:\\users\\csinaywe\\fastapi-workspace\\langchain_models\\venv\\lib\\site-packages (from langchain) (6.0.2)\n",
      "Requirement already satisfied: tenacity!=8.4.0,<10.0.0,>=8.1.0 in c:\\users\\csinaywe\\fastapi-workspace\\langchain_models\\venv\\lib\\site-packages (from langchain-core<1.0.0,>=0.3.72->langchain) (9.1.2)\n",
      "Requirement already satisfied: jsonpatch<2.0,>=1.33 in c:\\users\\csinaywe\\fastapi-workspace\\langchain_models\\venv\\lib\\site-packages (from langchain-core<1.0.0,>=0.3.72->langchain) (1.33)\n",
      "Requirement already satisfied: typing-extensions>=4.7 in c:\\users\\csinaywe\\fastapi-workspace\\langchain_models\\venv\\lib\\site-packages (from langchain-core<1.0.0,>=0.3.72->langchain) (4.14.1)\n",
      "Requirement already satisfied: packaging>=23.2 in c:\\users\\csinaywe\\fastapi-workspace\\langchain_models\\venv\\lib\\site-packages (from langchain-core<1.0.0,>=0.3.72->langchain) (24.2)\n",
      "Requirement already satisfied: jsonpointer>=1.9 in c:\\users\\csinaywe\\fastapi-workspace\\langchain_models\\venv\\lib\\site-packages (from jsonpatch<2.0,>=1.33->langchain-core<1.0.0,>=0.3.72->langchain) (3.0.0)\n",
      "Requirement already satisfied: annotated-types>=0.6.0 in c:\\users\\csinaywe\\fastapi-workspace\\langchain_models\\venv\\lib\\site-packages (from pydantic<3.0.0,>=2.7.4->langchain) (0.7.0)\n",
      "Requirement already satisfied: pydantic-core==2.33.2 in c:\\users\\csinaywe\\fastapi-workspace\\langchain_models\\venv\\lib\\site-packages (from pydantic<3.0.0,>=2.7.4->langchain) (2.33.2)\n",
      "Requirement already satisfied: typing-inspection>=0.4.0 in c:\\users\\csinaywe\\fastapi-workspace\\langchain_models\\venv\\lib\\site-packages (from pydantic<3.0.0,>=2.7.4->langchain) (0.4.1)\n",
      "Requirement already satisfied: charset_normalizer<4,>=2 in c:\\users\\csinaywe\\fastapi-workspace\\langchain_models\\venv\\lib\\site-packages (from requests<3,>=2->langchain) (3.4.3)\n",
      "Requirement already satisfied: idna<4,>=2.5 in c:\\users\\csinaywe\\fastapi-workspace\\langchain_models\\venv\\lib\\site-packages (from requests<3,>=2->langchain) (3.10)\n",
      "Requirement already satisfied: urllib3<3,>=1.21.1 in c:\\users\\csinaywe\\fastapi-workspace\\langchain_models\\venv\\lib\\site-packages (from requests<3,>=2->langchain) (2.5.0)\n",
      "Requirement already satisfied: certifi>=2017.4.17 in c:\\users\\csinaywe\\fastapi-workspace\\langchain_models\\venv\\lib\\site-packages (from requests<3,>=2->langchain) (2025.8.3)\n",
      "Requirement already satisfied: greenlet>=1 in c:\\users\\csinaywe\\fastapi-workspace\\langchain_models\\venv\\lib\\site-packages (from SQLAlchemy<3,>=1.4->langchain) (3.2.4)\n",
      "Requirement already satisfied: build>=1.0.3 in c:\\users\\csinaywe\\fastapi-workspace\\langchain_models\\venv\\lib\\site-packages (from chromadb) (1.3.0)\n",
      "Requirement already satisfied: pybase64>=1.4.1 in c:\\users\\csinaywe\\fastapi-workspace\\langchain_models\\venv\\lib\\site-packages (from chromadb) (1.4.2)\n",
      "Requirement already satisfied: uvicorn>=0.18.3 in c:\\users\\csinaywe\\fastapi-workspace\\langchain_models\\venv\\lib\\site-packages (from uvicorn[standard]>=0.18.3->chromadb) (0.30.6)\n",
      "Requirement already satisfied: numpy>=1.22.5 in c:\\users\\csinaywe\\fastapi-workspace\\langchain_models\\venv\\lib\\site-packages (from chromadb) (2.3.2)\n",
      "Requirement already satisfied: posthog<6.0.0,>=2.4.0 in c:\\users\\csinaywe\\fastapi-workspace\\langchain_models\\venv\\lib\\site-packages (from chromadb) (5.4.0)\n",
      "Requirement already satisfied: onnxruntime>=1.14.1 in c:\\users\\csinaywe\\fastapi-workspace\\langchain_models\\venv\\lib\\site-packages (from chromadb) (1.22.1)\n",
      "Requirement already satisfied: opentelemetry-api>=1.2.0 in c:\\users\\csinaywe\\fastapi-workspace\\langchain_models\\venv\\lib\\site-packages (from chromadb) (1.36.0)\n",
      "Requirement already satisfied: opentelemetry-exporter-otlp-proto-grpc>=1.2.0 in c:\\users\\csinaywe\\fastapi-workspace\\langchain_models\\venv\\lib\\site-packages (from chromadb) (1.36.0)\n",
      "Requirement already satisfied: opentelemetry-sdk>=1.2.0 in c:\\users\\csinaywe\\fastapi-workspace\\langchain_models\\venv\\lib\\site-packages (from chromadb) (1.36.0)\n",
      "Requirement already satisfied: tokenizers>=0.13.2 in c:\\users\\csinaywe\\fastapi-workspace\\langchain_models\\venv\\lib\\site-packages (from chromadb) (0.21.2)\n",
      "Requirement already satisfied: pypika>=0.48.9 in c:\\users\\csinaywe\\fastapi-workspace\\langchain_models\\venv\\lib\\site-packages (from chromadb) (0.48.9)\n",
      "Requirement already satisfied: tqdm>=4.65.0 in c:\\users\\csinaywe\\fastapi-workspace\\langchain_models\\venv\\lib\\site-packages (from chromadb) (4.67.1)\n",
      "Requirement already satisfied: overrides>=7.3.1 in c:\\users\\csinaywe\\fastapi-workspace\\langchain_models\\venv\\lib\\site-packages (from chromadb) (7.7.0)\n",
      "Requirement already satisfied: importlib-resources in c:\\users\\csinaywe\\fastapi-workspace\\langchain_models\\venv\\lib\\site-packages (from chromadb) (6.5.2)\n",
      "Requirement already satisfied: grpcio>=1.58.0 in c:\\users\\csinaywe\\fastapi-workspace\\langchain_models\\venv\\lib\\site-packages (from chromadb) (1.73.1)\n",
      "Requirement already satisfied: bcrypt>=4.0.1 in c:\\users\\csinaywe\\fastapi-workspace\\langchain_models\\venv\\lib\\site-packages (from chromadb) (4.3.0)\n",
      "Requirement already satisfied: typer>=0.9.0 in c:\\users\\csinaywe\\fastapi-workspace\\langchain_models\\venv\\lib\\site-packages (from chromadb) (0.17.4)\n",
      "Requirement already satisfied: kubernetes>=28.1.0 in c:\\users\\csinaywe\\fastapi-workspace\\langchain_models\\venv\\lib\\site-packages (from chromadb) (33.1.0)\n",
      "Requirement already satisfied: mmh3>=4.0.1 in c:\\users\\csinaywe\\fastapi-workspace\\langchain_models\\venv\\lib\\site-packages (from chromadb) (5.2.0)\n",
      "Requirement already satisfied: orjson>=3.9.12 in c:\\users\\csinaywe\\fastapi-workspace\\langchain_models\\venv\\lib\\site-packages (from chromadb) (3.11.2)\n",
      "Requirement already satisfied: httpx>=0.27.0 in c:\\users\\csinaywe\\fastapi-workspace\\langchain_models\\venv\\lib\\site-packages (from chromadb) (0.28.1)\n",
      "Requirement already satisfied: rich>=10.11.0 in c:\\users\\csinaywe\\fastapi-workspace\\langchain_models\\venv\\lib\\site-packages (from chromadb) (14.1.0)\n",
      "Requirement already satisfied: jsonschema>=4.19.0 in c:\\users\\csinaywe\\fastapi-workspace\\langchain_models\\venv\\lib\\site-packages (from chromadb) (4.25.1)\n",
      "Requirement already satisfied: six>=1.5 in c:\\users\\csinaywe\\fastapi-workspace\\langchain_models\\venv\\lib\\site-packages (from posthog<6.0.0,>=2.4.0->chromadb) (1.17.0)\n",
      "Requirement already satisfied: python-dateutil>=2.2 in c:\\users\\csinaywe\\fastapi-workspace\\langchain_models\\venv\\lib\\site-packages (from posthog<6.0.0,>=2.4.0->chromadb) (2.9.0.post0)\n",
      "Requirement already satisfied: backoff>=1.10.0 in c:\\users\\csinaywe\\fastapi-workspace\\langchain_models\\venv\\lib\\site-packages (from posthog<6.0.0,>=2.4.0->chromadb) (2.2.1)\n",
      "Requirement already satisfied: distro>=1.5.0 in c:\\users\\csinaywe\\fastapi-workspace\\langchain_models\\venv\\lib\\site-packages (from posthog<6.0.0,>=2.4.0->chromadb) (1.9.0)\n",
      "Requirement already satisfied: regex>=2022.1.18 in c:\\users\\csinaywe\\fastapi-workspace\\langchain_models\\venv\\lib\\site-packages (from tiktoken) (2024.11.6)\n",
      "Requirement already satisfied: ollama<1.0.0,>=0.5.3 in c:\\users\\csinaywe\\fastapi-workspace\\langchain_models\\venv\\lib\\site-packages (from langchain_ollama) (0.5.3)\n",
      "Requirement already satisfied: aiohttp<4.0.0,>=3.8.3 in c:\\users\\csinaywe\\fastapi-workspace\\langchain_models\\venv\\lib\\site-packages (from langchain-community) (3.12.15)\n",
      "Requirement already satisfied: dataclasses-json<0.7,>=0.5.7 in c:\\users\\csinaywe\\fastapi-workspace\\langchain_models\\venv\\lib\\site-packages (from langchain-community) (0.6.7)\n",
      "Requirement already satisfied: pydantic-settings<3.0.0,>=2.4.0 in c:\\users\\csinaywe\\fastapi-workspace\\langchain_models\\venv\\lib\\site-packages (from langchain-community) (2.10.1)\n",
      "Requirement already satisfied: httpx-sse<1.0.0,>=0.4.0 in c:\\users\\csinaywe\\fastapi-workspace\\langchain_models\\venv\\lib\\site-packages (from langchain-community) (0.4.1)\n",
      "Requirement already satisfied: aiohappyeyeballs>=2.5.0 in c:\\users\\csinaywe\\fastapi-workspace\\langchain_models\\venv\\lib\\site-packages (from aiohttp<4.0.0,>=3.8.3->langchain-community) (2.6.1)\n",
      "Requirement already satisfied: aiosignal>=1.4.0 in c:\\users\\csinaywe\\fastapi-workspace\\langchain_models\\venv\\lib\\site-packages (from aiohttp<4.0.0,>=3.8.3->langchain-community) (1.4.0)\n",
      "Requirement already satisfied: attrs>=17.3.0 in c:\\users\\csinaywe\\fastapi-workspace\\langchain_models\\venv\\lib\\site-packages (from aiohttp<4.0.0,>=3.8.3->langchain-community) (25.3.0)\n",
      "Requirement already satisfied: frozenlist>=1.1.1 in c:\\users\\csinaywe\\fastapi-workspace\\langchain_models\\venv\\lib\\site-packages (from aiohttp<4.0.0,>=3.8.3->langchain-community) (1.7.0)\n",
      "Requirement already satisfied: multidict<7.0,>=4.5 in c:\\users\\csinaywe\\fastapi-workspace\\langchain_models\\venv\\lib\\site-packages (from aiohttp<4.0.0,>=3.8.3->langchain-community) (6.6.4)\n",
      "Requirement already satisfied: propcache>=0.2.0 in c:\\users\\csinaywe\\fastapi-workspace\\langchain_models\\venv\\lib\\site-packages (from aiohttp<4.0.0,>=3.8.3->langchain-community) (0.3.2)\n",
      "Requirement already satisfied: yarl<2.0,>=1.17.0 in c:\\users\\csinaywe\\fastapi-workspace\\langchain_models\\venv\\lib\\site-packages (from aiohttp<4.0.0,>=3.8.3->langchain-community) (1.20.1)\n",
      "Requirement already satisfied: marshmallow<4.0.0,>=3.18.0 in c:\\users\\csinaywe\\fastapi-workspace\\langchain_models\\venv\\lib\\site-packages (from dataclasses-json<0.7,>=0.5.7->langchain-community) (3.26.1)\n",
      "Requirement already satisfied: typing-inspect<1,>=0.4.0 in c:\\users\\csinaywe\\fastapi-workspace\\langchain_models\\venv\\lib\\site-packages (from dataclasses-json<0.7,>=0.5.7->langchain-community) (0.9.0)\n",
      "Requirement already satisfied: python-dotenv>=0.21.0 in c:\\users\\csinaywe\\fastapi-workspace\\langchain_models\\venv\\lib\\site-packages (from pydantic-settings<3.0.0,>=2.4.0->langchain-community) (1.1.1)\n",
      "Requirement already satisfied: mypy-extensions>=0.3.0 in c:\\users\\csinaywe\\fastapi-workspace\\langchain_models\\venv\\lib\\site-packages (from typing-inspect<1,>=0.4.0->dataclasses-json<0.7,>=0.5.7->langchain-community) (1.1.0)\n",
      "Requirement already satisfied: pyproject_hooks in c:\\users\\csinaywe\\fastapi-workspace\\langchain_models\\venv\\lib\\site-packages (from build>=1.0.3->chromadb) (1.2.0)\n",
      "Requirement already satisfied: colorama in c:\\users\\csinaywe\\fastapi-workspace\\langchain_models\\venv\\lib\\site-packages (from build>=1.0.3->chromadb) (0.4.6)\n",
      "Requirement already satisfied: anyio in c:\\users\\csinaywe\\fastapi-workspace\\langchain_models\\venv\\lib\\site-packages (from httpx>=0.27.0->chromadb) (4.10.0)\n",
      "Requirement already satisfied: httpcore==1.* in c:\\users\\csinaywe\\fastapi-workspace\\langchain_models\\venv\\lib\\site-packages (from httpx>=0.27.0->chromadb) (1.0.9)\n",
      "Requirement already satisfied: h11>=0.16 in c:\\users\\csinaywe\\fastapi-workspace\\langchain_models\\venv\\lib\\site-packages (from httpcore==1.*->httpx>=0.27.0->chromadb) (0.16.0)\n",
      "Requirement already satisfied: jsonschema-specifications>=2023.03.6 in c:\\users\\csinaywe\\fastapi-workspace\\langchain_models\\venv\\lib\\site-packages (from jsonschema>=4.19.0->chromadb) (2025.4.1)\n",
      "Requirement already satisfied: referencing>=0.28.4 in c:\\users\\csinaywe\\fastapi-workspace\\langchain_models\\venv\\lib\\site-packages (from jsonschema>=4.19.0->chromadb) (0.36.2)\n",
      "Requirement already satisfied: rpds-py>=0.7.1 in c:\\users\\csinaywe\\fastapi-workspace\\langchain_models\\venv\\lib\\site-packages (from jsonschema>=4.19.0->chromadb) (0.27.0)\n",
      "Requirement already satisfied: google-auth>=1.0.1 in c:\\users\\csinaywe\\fastapi-workspace\\langchain_models\\venv\\lib\\site-packages (from kubernetes>=28.1.0->chromadb) (2.40.3)\n",
      "Requirement already satisfied: websocket-client!=0.40.0,!=0.41.*,!=0.42.*,>=0.32.0 in c:\\users\\csinaywe\\fastapi-workspace\\langchain_models\\venv\\lib\\site-packages (from kubernetes>=28.1.0->chromadb) (1.8.0)\n",
      "Requirement already satisfied: requests-oauthlib in c:\\users\\csinaywe\\fastapi-workspace\\langchain_models\\venv\\lib\\site-packages (from kubernetes>=28.1.0->chromadb) (2.0.0)\n",
      "Requirement already satisfied: oauthlib>=3.2.2 in c:\\users\\csinaywe\\fastapi-workspace\\langchain_models\\venv\\lib\\site-packages (from kubernetes>=28.1.0->chromadb) (3.3.1)\n",
      "Requirement already satisfied: durationpy>=0.7 in c:\\users\\csinaywe\\fastapi-workspace\\langchain_models\\venv\\lib\\site-packages (from kubernetes>=28.1.0->chromadb) (0.10)\n",
      "Requirement already satisfied: cachetools<6.0,>=2.0.0 in c:\\users\\csinaywe\\fastapi-workspace\\langchain_models\\venv\\lib\\site-packages (from google-auth>=1.0.1->kubernetes>=28.1.0->chromadb) (5.5.2)\n",
      "Requirement already satisfied: pyasn1-modules>=0.2.1 in c:\\users\\csinaywe\\fastapi-workspace\\langchain_models\\venv\\lib\\site-packages (from google-auth>=1.0.1->kubernetes>=28.1.0->chromadb) (0.4.2)\n",
      "Requirement already satisfied: rsa<5,>=3.1.4 in c:\\users\\csinaywe\\fastapi-workspace\\langchain_models\\venv\\lib\\site-packages (from google-auth>=1.0.1->kubernetes>=28.1.0->chromadb) (4.9.1)\n",
      "Requirement already satisfied: pyasn1>=0.1.3 in c:\\users\\csinaywe\\fastapi-workspace\\langchain_models\\venv\\lib\\site-packages (from rsa<5,>=3.1.4->google-auth>=1.0.1->kubernetes>=28.1.0->chromadb) (0.6.1)\n",
      "Requirement already satisfied: requests-toolbelt>=1.0.0 in c:\\users\\csinaywe\\fastapi-workspace\\langchain_models\\venv\\lib\\site-packages (from langsmith>=0.1.17->langchain) (1.0.0)\n",
      "Requirement already satisfied: zstandard>=0.23.0 in c:\\users\\csinaywe\\fastapi-workspace\\langchain_models\\venv\\lib\\site-packages (from langsmith>=0.1.17->langchain) (0.24.0)\n",
      "Requirement already satisfied: coloredlogs in c:\\users\\csinaywe\\fastapi-workspace\\langchain_models\\venv\\lib\\site-packages (from onnxruntime>=1.14.1->chromadb) (15.0.1)\n",
      "Requirement already satisfied: flatbuffers in c:\\users\\csinaywe\\fastapi-workspace\\langchain_models\\venv\\lib\\site-packages (from onnxruntime>=1.14.1->chromadb) (25.2.10)\n",
      "Requirement already satisfied: protobuf in c:\\users\\csinaywe\\fastapi-workspace\\langchain_models\\venv\\lib\\site-packages (from onnxruntime>=1.14.1->chromadb) (5.29.5)\n",
      "Requirement already satisfied: sympy in c:\\users\\csinaywe\\fastapi-workspace\\langchain_models\\venv\\lib\\site-packages (from onnxruntime>=1.14.1->chromadb) (1.13.3)\n",
      "Requirement already satisfied: importlib-metadata<8.8.0,>=6.0 in c:\\users\\csinaywe\\fastapi-workspace\\langchain_models\\venv\\lib\\site-packages (from opentelemetry-api>=1.2.0->chromadb) (8.7.0)\n",
      "Requirement already satisfied: zipp>=3.20 in c:\\users\\csinaywe\\fastapi-workspace\\langchain_models\\venv\\lib\\site-packages (from importlib-metadata<8.8.0,>=6.0->opentelemetry-api>=1.2.0->chromadb) (3.23.0)\n",
      "Requirement already satisfied: googleapis-common-protos~=1.57 in c:\\users\\csinaywe\\fastapi-workspace\\langchain_models\\venv\\lib\\site-packages (from opentelemetry-exporter-otlp-proto-grpc>=1.2.0->chromadb) (1.70.0)\n",
      "Requirement already satisfied: opentelemetry-exporter-otlp-proto-common==1.36.0 in c:\\users\\csinaywe\\fastapi-workspace\\langchain_models\\venv\\lib\\site-packages (from opentelemetry-exporter-otlp-proto-grpc>=1.2.0->chromadb) (1.36.0)\n",
      "Requirement already satisfied: opentelemetry-proto==1.36.0 in c:\\users\\csinaywe\\fastapi-workspace\\langchain_models\\venv\\lib\\site-packages (from opentelemetry-exporter-otlp-proto-grpc>=1.2.0->chromadb) (1.36.0)\n",
      "Requirement already satisfied: opentelemetry-semantic-conventions==0.57b0 in c:\\users\\csinaywe\\fastapi-workspace\\langchain_models\\venv\\lib\\site-packages (from opentelemetry-sdk>=1.2.0->chromadb) (0.57b0)\n",
      "Requirement already satisfied: markdown-it-py>=2.2.0 in c:\\users\\csinaywe\\fastapi-workspace\\langchain_models\\venv\\lib\\site-packages (from rich>=10.11.0->chromadb) (4.0.0)\n",
      "Requirement already satisfied: pygments<3.0.0,>=2.13.0 in c:\\users\\csinaywe\\fastapi-workspace\\langchain_models\\venv\\lib\\site-packages (from rich>=10.11.0->chromadb) (2.19.2)\n",
      "Requirement already satisfied: mdurl~=0.1 in c:\\users\\csinaywe\\fastapi-workspace\\langchain_models\\venv\\lib\\site-packages (from markdown-it-py>=2.2.0->rich>=10.11.0->chromadb) (0.1.2)\n",
      "Requirement already satisfied: huggingface-hub<1.0,>=0.16.4 in c:\\users\\csinaywe\\fastapi-workspace\\langchain_models\\venv\\lib\\site-packages (from tokenizers>=0.13.2->chromadb) (0.34.4)\n",
      "Requirement already satisfied: filelock in c:\\users\\csinaywe\\fastapi-workspace\\langchain_models\\venv\\lib\\site-packages (from huggingface-hub<1.0,>=0.16.4->tokenizers>=0.13.2->chromadb) (3.18.0)\n",
      "Requirement already satisfied: fsspec>=2023.5.0 in c:\\users\\csinaywe\\fastapi-workspace\\langchain_models\\venv\\lib\\site-packages (from huggingface-hub<1.0,>=0.16.4->tokenizers>=0.13.2->chromadb) (2025.5.1)\n",
      "Requirement already satisfied: click>=8.0.0 in c:\\users\\csinaywe\\fastapi-workspace\\langchain_models\\venv\\lib\\site-packages (from typer>=0.9.0->chromadb) (8.2.1)\n",
      "Requirement already satisfied: shellingham>=1.3.0 in c:\\users\\csinaywe\\fastapi-workspace\\langchain_models\\venv\\lib\\site-packages (from typer>=0.9.0->chromadb) (1.5.4)\n",
      "Requirement already satisfied: httptools>=0.5.0 in c:\\users\\csinaywe\\fastapi-workspace\\langchain_models\\venv\\lib\\site-packages (from uvicorn[standard]>=0.18.3->chromadb) (0.6.4)\n",
      "Requirement already satisfied: watchfiles>=0.13 in c:\\users\\csinaywe\\fastapi-workspace\\langchain_models\\venv\\lib\\site-packages (from uvicorn[standard]>=0.18.3->chromadb) (1.1.0)\n",
      "Requirement already satisfied: websockets>=10.4 in c:\\users\\csinaywe\\fastapi-workspace\\langchain_models\\venv\\lib\\site-packages (from uvicorn[standard]>=0.18.3->chromadb) (15.0.1)\n",
      "Requirement already satisfied: sniffio>=1.1 in c:\\users\\csinaywe\\fastapi-workspace\\langchain_models\\venv\\lib\\site-packages (from anyio->httpx>=0.27.0->chromadb) (1.3.1)\n",
      "Requirement already satisfied: humanfriendly>=9.1 in c:\\users\\csinaywe\\fastapi-workspace\\langchain_models\\venv\\lib\\site-packages (from coloredlogs->onnxruntime>=1.14.1->chromadb) (10.0)\n",
      "Requirement already satisfied: pyreadline3 in c:\\users\\csinaywe\\fastapi-workspace\\langchain_models\\venv\\lib\\site-packages (from humanfriendly>=9.1->coloredlogs->onnxruntime>=1.14.1->chromadb) (3.5.4)\n",
      "Requirement already satisfied: mpmath<1.4,>=1.1.0 in c:\\users\\csinaywe\\fastapi-workspace\\langchain_models\\venv\\lib\\site-packages (from sympy->onnxruntime>=1.14.1->chromadb) (1.3.0)\n"
     ]
    }
   ],
   "source": [
    "!pip install langchain chromadb  tiktoken pypdf langchain_ollama  langchain-community langchain_chroma"
   ]
  },
  {
   "cell_type": "code",
   "execution_count": 42,
   "id": "fb93eee4",
   "metadata": {},
   "outputs": [],
   "source": [
    "from langchain_ollama import OllamaEmbeddings\n",
    "from langchain_chroma import Chroma\n"
   ]
  },
  {
   "cell_type": "code",
   "execution_count": 43,
   "id": "2feedc81",
   "metadata": {},
   "outputs": [],
   "source": [
    "from langchain.schema import Document\n",
    "# create langchain documents for ipl players\n",
    "doc1 = Document(\n",
    "        page_content=\"Virat Kohli is one of the most successful and consistent batsmen in IPL history. Known for his aggressive batting style and fitness, he has led the Royal Challengers Bangalore in multiple seasons.\",\n",
    "        metadata={\"team\": \"Royal Challengers Bangalore\"}\n",
    "    )\n",
    "doc2 = Document(\n",
    "        page_content=\"Rohit Sharma is the most successful captain in IPL history, leading Mumbai Indians to five titles. He's known for his calm demeanor and ability to play big innings under pressure.\",\n",
    "        metadata={\"team\": \"Mumbai Indians\"}\n",
    "    )\n",
    "doc3 = Document(\n",
    "        page_content=\"MS Dhoni, famously known as Captain Cool, has led Chennai Super Kings to multiple IPL titles. His finishing skills, wicketkeeping, and leadership are legendary.\",\n",
    "        metadata={\"team\": \"Chennai Super Kings\"}\n",
    "    )\n",
    "doc4 = Document(\n",
    "        page_content=\"Jasprit Bumrah is considered one of the best fast bowlers in T20 cricket. Playing for Mumbai Indians, he is known for his yorkers and death-over expertise.\",\n",
    "        metadata={\"team\": \"Mumbai Indians\"}\n",
    "    )\n",
    "doc5 = Document(\n",
    "        page_content=\"Ravindra Jadeja is a dynamic all-rounder who contributes with both bat and ball. Representing Chennai Super Kings, his quick fielding and match-winning performances make him a key player.\",\n",
    "        metadata={\"team\": \"Chennai Super Kings\"}\n",
    "    )"
   ]
  },
  {
   "cell_type": "code",
   "execution_count": 44,
   "id": "1e515e5c",
   "metadata": {},
   "outputs": [],
   "source": [
    "docs = [doc1,doc2,doc3,doc4,doc5]"
   ]
  },
  {
   "cell_type": "code",
   "execution_count": 45,
   "id": "3fd91ced",
   "metadata": {},
   "outputs": [],
   "source": [
    "vector_store = Chroma(\n",
    "  embedding_function=OllamaEmbeddings(model='llama3:latest'),\n",
    "  persist_directory='my_chroma_db',\n",
    "  collection_name='sample'\n",
    ")"
   ]
  },
  {
   "cell_type": "code",
   "execution_count": 46,
   "id": "3e7ab33b",
   "metadata": {},
   "outputs": [
    {
     "data": {
      "text/plain": [
       "['96d99709-c8d5-47e0-a645-86f2246b567a',\n",
       " '93930943-909d-4b88-84da-71f3d43765ca',\n",
       " 'dc697a57-e3d0-4099-8c5a-a071f264b6d5',\n",
       " '585e03b9-bc93-4c7d-81c3-1d0cd29e49e1',\n",
       " 'af141c8a-05c5-4362-a6d6-f6c263caeac8']"
      ]
     },
     "execution_count": 46,
     "metadata": {},
     "output_type": "execute_result"
    }
   ],
   "source": [
    "# add documents \n",
    "vector_store.add_documents(docs)"
   ]
  },
  {
   "cell_type": "code",
   "execution_count": 47,
   "id": "9696051f",
   "metadata": {},
   "outputs": [
    {
     "data": {
      "text/plain": [
       "{'ids': ['7b0dab16-b662-4bcb-8616-851ff8b54c03',\n",
       "  'ecd1d709-fef4-4558-b4ea-c65f9f1ca412',\n",
       "  '90e07ee1-074a-4b98-936f-15f8b95218fd',\n",
       "  'e2a0a0ed-280c-4ffc-93a5-7fb698055d64',\n",
       "  '9e2ab230-049d-4e08-ba5b-85af0b4c6962',\n",
       "  '96d99709-c8d5-47e0-a645-86f2246b567a',\n",
       "  '93930943-909d-4b88-84da-71f3d43765ca',\n",
       "  'dc697a57-e3d0-4099-8c5a-a071f264b6d5',\n",
       "  '585e03b9-bc93-4c7d-81c3-1d0cd29e49e1',\n",
       "  'af141c8a-05c5-4362-a6d6-f6c263caeac8'],\n",
       " 'embeddings': array([[ 0.00136997, -0.02889651, -0.00615093, ..., -0.01916804,\n",
       "         -0.0035662 , -0.01706595],\n",
       "        [-0.00420167, -0.02221695, -0.01389411, ..., -0.00386124,\n",
       "         -0.00758422, -0.0182704 ],\n",
       "        [-0.01284037, -0.01429936, -0.00896038, ..., -0.00908507,\n",
       "         -0.00707919, -0.00930845],\n",
       "        ...,\n",
       "        [-0.01284037, -0.01429936, -0.00896038, ..., -0.00908507,\n",
       "         -0.00707919, -0.00930845],\n",
       "        [-0.01581004, -0.01707713, -0.01315456, ..., -0.01352067,\n",
       "         -0.00606472, -0.00914137],\n",
       "        [-0.009274  , -0.0207586 ,  0.00410676, ..., -0.01040975,\n",
       "         -0.00179016, -0.00622644]], shape=(10, 4096)),\n",
       " 'documents': [\"Virat Kohli, the former captain of Royal Challengers Bangalore (RCB), is renowned for his aggressive leadership and consistent batting performances. He holds the record for the most runs in IPL history, including multiple centuries in a single season. Despite RCB not winning an IPL title under his captaincy, Kohli's passion and fitness set a benchmark for the league. His ability to chase targets and anchor innings has made him one of the most dependable players in T20 cricket.\",\n",
       "  \"Rohit Sharma is the most successful captain in IPL history, leading Mumbai Indians to five titles. He's known for his calm demeanor and ability to play big innings under pressure.\",\n",
       "  'MS Dhoni, famously known as Captain Cool, has led Chennai Super Kings to multiple IPL titles. His finishing skills, wicketkeeping, and leadership are legendary.',\n",
       "  'Jasprit Bumrah is considered one of the best fast bowlers in T20 cricket. Playing for Mumbai Indians, he is known for his yorkers and death-over expertise.',\n",
       "  'Ravindra Jadeja is a dynamic all-rounder who contributes with both bat and ball. Representing Chennai Super Kings, his quick fielding and match-winning performances make him a key player.',\n",
       "  'Virat Kohli is one of the most successful and consistent batsmen in IPL history. Known for his aggressive batting style and fitness, he has led the Royal Challengers Bangalore in multiple seasons.',\n",
       "  \"Rohit Sharma is the most successful captain in IPL history, leading Mumbai Indians to five titles. He's known for his calm demeanor and ability to play big innings under pressure.\",\n",
       "  'MS Dhoni, famously known as Captain Cool, has led Chennai Super Kings to multiple IPL titles. His finishing skills, wicketkeeping, and leadership are legendary.',\n",
       "  'Jasprit Bumrah is considered one of the best fast bowlers in T20 cricket. Playing for Mumbai Indians, he is known for his yorkers and death-over expertise.',\n",
       "  'Ravindra Jadeja is a dynamic all-rounder who contributes with both bat and ball. Representing Chennai Super Kings, his quick fielding and match-winning performances make him a key player.'],\n",
       " 'uris': None,\n",
       " 'included': ['embeddings', 'embeddings', 'documents'],\n",
       " 'data': None,\n",
       " 'metadatas': None}"
      ]
     },
     "execution_count": 47,
     "metadata": {},
     "output_type": "execute_result"
    }
   ],
   "source": [
    "vector_store.get(include=['embeddings','embeddings','documents'])"
   ]
  },
  {
   "cell_type": "code",
   "execution_count": 48,
   "id": "bbcc7715",
   "metadata": {},
   "outputs": [
    {
     "data": {
      "text/plain": [
       "[Document(id='e2a0a0ed-280c-4ffc-93a5-7fb698055d64', metadata={'team': 'Mumbai Indians'}, page_content='Jasprit Bumrah is considered one of the best fast bowlers in T20 cricket. Playing for Mumbai Indians, he is known for his yorkers and death-over expertise.'),\n",
       " Document(id='585e03b9-bc93-4c7d-81c3-1d0cd29e49e1', metadata={'team': 'Mumbai Indians'}, page_content='Jasprit Bumrah is considered one of the best fast bowlers in T20 cricket. Playing for Mumbai Indians, he is known for his yorkers and death-over expertise.')]"
      ]
     },
     "execution_count": 48,
     "metadata": {},
     "output_type": "execute_result"
    }
   ],
   "source": [
    "# search documents\n",
    "vector_store.similarity_search(\n",
    "  query='which players are bowlers',\n",
    "  k=2  #number of similar documents to return\n",
    ")"
   ]
  },
  {
   "cell_type": "code",
   "execution_count": 49,
   "id": "9367d030",
   "metadata": {},
   "outputs": [
    {
     "data": {
      "text/plain": [
       "[(Document(id='e2a0a0ed-280c-4ffc-93a5-7fb698055d64', metadata={'team': 'Mumbai Indians'}, page_content='Jasprit Bumrah is considered one of the best fast bowlers in T20 cricket. Playing for Mumbai Indians, he is known for his yorkers and death-over expertise.'),\n",
       "  1.3393305540084839),\n",
       " (Document(id='585e03b9-bc93-4c7d-81c3-1d0cd29e49e1', metadata={'team': 'Mumbai Indians'}, page_content='Jasprit Bumrah is considered one of the best fast bowlers in T20 cricket. Playing for Mumbai Indians, he is known for his yorkers and death-over expertise.'),\n",
       "  1.3393305540084839)]"
      ]
     },
     "execution_count": 49,
     "metadata": {},
     "output_type": "execute_result"
    }
   ],
   "source": [
    "# search documentsw with score\n",
    "vector_store.similarity_search_with_score(\n",
    "  query='which players are bowlers',\n",
    "  k=2  #number of similar documents to return\n",
    ")"
   ]
  },
  {
   "cell_type": "code",
   "execution_count": 50,
   "id": "6e3a0cbc",
   "metadata": {},
   "outputs": [
    {
     "data": {
      "text/plain": [
       "[(Document(id='90e07ee1-074a-4b98-936f-15f8b95218fd', metadata={'team': 'Chennai Super Kings'}, page_content='MS Dhoni, famously known as Captain Cool, has led Chennai Super Kings to multiple IPL titles. His finishing skills, wicketkeeping, and leadership are legendary.'),\n",
       "  2.2818655967712402),\n",
       " (Document(id='dc697a57-e3d0-4099-8c5a-a071f264b6d5', metadata={'team': 'Chennai Super Kings'}, page_content='MS Dhoni, famously known as Captain Cool, has led Chennai Super Kings to multiple IPL titles. His finishing skills, wicketkeeping, and leadership are legendary.'),\n",
       "  2.2818655967712402),\n",
       " (Document(id='9e2ab230-049d-4e08-ba5b-85af0b4c6962', metadata={'team': 'Chennai Super Kings'}, page_content='Ravindra Jadeja is a dynamic all-rounder who contributes with both bat and ball. Representing Chennai Super Kings, his quick fielding and match-winning performances make him a key player.'),\n",
       "  2.3327653408050537),\n",
       " (Document(id='af141c8a-05c5-4362-a6d6-f6c263caeac8', metadata={'team': 'Chennai Super Kings'}, page_content='Ravindra Jadeja is a dynamic all-rounder who contributes with both bat and ball. Representing Chennai Super Kings, his quick fielding and match-winning performances make him a key player.'),\n",
       "  2.3327653408050537)]"
      ]
     },
     "execution_count": 50,
     "metadata": {},
     "output_type": "execute_result"
    }
   ],
   "source": [
    "# meta data filtering\n",
    "vector_store.similarity_search_with_score(\n",
    "  query='',\n",
    "  filter={'team':'Chennai Super Kings'}\n",
    ")"
   ]
  },
  {
   "cell_type": "code",
   "execution_count": 51,
   "id": "26129dd1",
   "metadata": {},
   "outputs": [],
   "source": [
    "#update documents\n",
    "updated_doc1 = Document(\n",
    "    page_content=\"Virat Kohli, the former captain of Royal Challengers Bangalore (RCB), is renowned for his aggressive leadership and consistent batting performances. He holds the record for the most runs in IPL history, including multiple centuries in a single season. Despite RCB not winning an IPL title under his captaincy, Kohli's passion and fitness set a benchmark for the league. His ability to chase targets and anchor innings has made him one of the most dependable players in T20 cricket.\",\n",
    "    metadata={\"team\": \"Royal Challengers Bangalore\"}\n",
    ")\n",
    "vector_store.update_document(document_id='7b0dab16-b662-4bcb-8616-851ff8b54c03',document=updated_doc1)"
   ]
  },
  {
   "cell_type": "code",
   "execution_count": 52,
   "id": "b3bc83b6",
   "metadata": {},
   "outputs": [
    {
     "data": {
      "text/plain": [
       "{'ids': ['7b0dab16-b662-4bcb-8616-851ff8b54c03',\n",
       "  'ecd1d709-fef4-4558-b4ea-c65f9f1ca412',\n",
       "  '90e07ee1-074a-4b98-936f-15f8b95218fd',\n",
       "  'e2a0a0ed-280c-4ffc-93a5-7fb698055d64',\n",
       "  '9e2ab230-049d-4e08-ba5b-85af0b4c6962',\n",
       "  '96d99709-c8d5-47e0-a645-86f2246b567a',\n",
       "  '93930943-909d-4b88-84da-71f3d43765ca',\n",
       "  'dc697a57-e3d0-4099-8c5a-a071f264b6d5',\n",
       "  '585e03b9-bc93-4c7d-81c3-1d0cd29e49e1',\n",
       "  'af141c8a-05c5-4362-a6d6-f6c263caeac8'],\n",
       " 'embeddings': array([[ 0.00136997, -0.02889651, -0.00615093, ..., -0.01916804,\n",
       "         -0.0035662 , -0.01706595],\n",
       "        [-0.00420167, -0.02221695, -0.01389411, ..., -0.00386124,\n",
       "         -0.00758422, -0.0182704 ],\n",
       "        [-0.01284037, -0.01429936, -0.00896038, ..., -0.00908507,\n",
       "         -0.00707919, -0.00930845],\n",
       "        ...,\n",
       "        [-0.01284037, -0.01429936, -0.00896038, ..., -0.00908507,\n",
       "         -0.00707919, -0.00930845],\n",
       "        [-0.01581004, -0.01707713, -0.01315456, ..., -0.01352067,\n",
       "         -0.00606472, -0.00914137],\n",
       "        [-0.009274  , -0.0207586 ,  0.00410676, ..., -0.01040975,\n",
       "         -0.00179016, -0.00622644]], shape=(10, 4096)),\n",
       " 'documents': [\"Virat Kohli, the former captain of Royal Challengers Bangalore (RCB), is renowned for his aggressive leadership and consistent batting performances. He holds the record for the most runs in IPL history, including multiple centuries in a single season. Despite RCB not winning an IPL title under his captaincy, Kohli's passion and fitness set a benchmark for the league. His ability to chase targets and anchor innings has made him one of the most dependable players in T20 cricket.\",\n",
       "  \"Rohit Sharma is the most successful captain in IPL history, leading Mumbai Indians to five titles. He's known for his calm demeanor and ability to play big innings under pressure.\",\n",
       "  'MS Dhoni, famously known as Captain Cool, has led Chennai Super Kings to multiple IPL titles. His finishing skills, wicketkeeping, and leadership are legendary.',\n",
       "  'Jasprit Bumrah is considered one of the best fast bowlers in T20 cricket. Playing for Mumbai Indians, he is known for his yorkers and death-over expertise.',\n",
       "  'Ravindra Jadeja is a dynamic all-rounder who contributes with both bat and ball. Representing Chennai Super Kings, his quick fielding and match-winning performances make him a key player.',\n",
       "  'Virat Kohli is one of the most successful and consistent batsmen in IPL history. Known for his aggressive batting style and fitness, he has led the Royal Challengers Bangalore in multiple seasons.',\n",
       "  \"Rohit Sharma is the most successful captain in IPL history, leading Mumbai Indians to five titles. He's known for his calm demeanor and ability to play big innings under pressure.\",\n",
       "  'MS Dhoni, famously known as Captain Cool, has led Chennai Super Kings to multiple IPL titles. His finishing skills, wicketkeeping, and leadership are legendary.',\n",
       "  'Jasprit Bumrah is considered one of the best fast bowlers in T20 cricket. Playing for Mumbai Indians, he is known for his yorkers and death-over expertise.',\n",
       "  'Ravindra Jadeja is a dynamic all-rounder who contributes with both bat and ball. Representing Chennai Super Kings, his quick fielding and match-winning performances make him a key player.'],\n",
       " 'uris': None,\n",
       " 'included': ['embeddings', 'documents', 'metadatas'],\n",
       " 'data': None,\n",
       " 'metadatas': [{'team': 'Royal Challengers Bangalore'},\n",
       "  {'team': 'Mumbai Indians'},\n",
       "  {'team': 'Chennai Super Kings'},\n",
       "  {'team': 'Mumbai Indians'},\n",
       "  {'team': 'Chennai Super Kings'},\n",
       "  {'team': 'Royal Challengers Bangalore'},\n",
       "  {'team': 'Mumbai Indians'},\n",
       "  {'team': 'Chennai Super Kings'},\n",
       "  {'team': 'Mumbai Indians'},\n",
       "  {'team': 'Chennai Super Kings'}]}"
      ]
     },
     "execution_count": 52,
     "metadata": {},
     "output_type": "execute_result"
    }
   ],
   "source": [
    "# view documents\n",
    "vector_store.get(include=['embeddings','documents', 'metadatas'])"
   ]
  },
  {
   "cell_type": "code",
   "execution_count": 53,
   "id": "ca31e3f6",
   "metadata": {},
   "outputs": [],
   "source": [
    "# delete document\n",
    "vector_store.delete(ids=['09a39dc6-3ba6-4ea7-927e-fdda591da5e4'])"
   ]
  },
  {
   "cell_type": "code",
   "execution_count": 54,
   "id": "727ac9ab",
   "metadata": {},
   "outputs": [
    {
     "data": {
      "text/plain": [
       "{'ids': ['7b0dab16-b662-4bcb-8616-851ff8b54c03',\n",
       "  'ecd1d709-fef4-4558-b4ea-c65f9f1ca412',\n",
       "  '90e07ee1-074a-4b98-936f-15f8b95218fd',\n",
       "  'e2a0a0ed-280c-4ffc-93a5-7fb698055d64',\n",
       "  '9e2ab230-049d-4e08-ba5b-85af0b4c6962',\n",
       "  '96d99709-c8d5-47e0-a645-86f2246b567a',\n",
       "  '93930943-909d-4b88-84da-71f3d43765ca',\n",
       "  'dc697a57-e3d0-4099-8c5a-a071f264b6d5',\n",
       "  '585e03b9-bc93-4c7d-81c3-1d0cd29e49e1',\n",
       "  'af141c8a-05c5-4362-a6d6-f6c263caeac8'],\n",
       " 'embeddings': array([[ 0.00136997, -0.02889651, -0.00615093, ..., -0.01916804,\n",
       "         -0.0035662 , -0.01706595],\n",
       "        [-0.00420167, -0.02221695, -0.01389411, ..., -0.00386124,\n",
       "         -0.00758422, -0.0182704 ],\n",
       "        [-0.01284037, -0.01429936, -0.00896038, ..., -0.00908507,\n",
       "         -0.00707919, -0.00930845],\n",
       "        ...,\n",
       "        [-0.01284037, -0.01429936, -0.00896038, ..., -0.00908507,\n",
       "         -0.00707919, -0.00930845],\n",
       "        [-0.01581004, -0.01707713, -0.01315456, ..., -0.01352067,\n",
       "         -0.00606472, -0.00914137],\n",
       "        [-0.009274  , -0.0207586 ,  0.00410676, ..., -0.01040975,\n",
       "         -0.00179016, -0.00622644]], shape=(10, 4096)),\n",
       " 'documents': [\"Virat Kohli, the former captain of Royal Challengers Bangalore (RCB), is renowned for his aggressive leadership and consistent batting performances. He holds the record for the most runs in IPL history, including multiple centuries in a single season. Despite RCB not winning an IPL title under his captaincy, Kohli's passion and fitness set a benchmark for the league. His ability to chase targets and anchor innings has made him one of the most dependable players in T20 cricket.\",\n",
       "  \"Rohit Sharma is the most successful captain in IPL history, leading Mumbai Indians to five titles. He's known for his calm demeanor and ability to play big innings under pressure.\",\n",
       "  'MS Dhoni, famously known as Captain Cool, has led Chennai Super Kings to multiple IPL titles. His finishing skills, wicketkeeping, and leadership are legendary.',\n",
       "  'Jasprit Bumrah is considered one of the best fast bowlers in T20 cricket. Playing for Mumbai Indians, he is known for his yorkers and death-over expertise.',\n",
       "  'Ravindra Jadeja is a dynamic all-rounder who contributes with both bat and ball. Representing Chennai Super Kings, his quick fielding and match-winning performances make him a key player.',\n",
       "  'Virat Kohli is one of the most successful and consistent batsmen in IPL history. Known for his aggressive batting style and fitness, he has led the Royal Challengers Bangalore in multiple seasons.',\n",
       "  \"Rohit Sharma is the most successful captain in IPL history, leading Mumbai Indians to five titles. He's known for his calm demeanor and ability to play big innings under pressure.\",\n",
       "  'MS Dhoni, famously known as Captain Cool, has led Chennai Super Kings to multiple IPL titles. His finishing skills, wicketkeeping, and leadership are legendary.',\n",
       "  'Jasprit Bumrah is considered one of the best fast bowlers in T20 cricket. Playing for Mumbai Indians, he is known for his yorkers and death-over expertise.',\n",
       "  'Ravindra Jadeja is a dynamic all-rounder who contributes with both bat and ball. Representing Chennai Super Kings, his quick fielding and match-winning performances make him a key player.'],\n",
       " 'uris': None,\n",
       " 'included': ['embeddings', 'documents', 'metadatas'],\n",
       " 'data': None,\n",
       " 'metadatas': [{'team': 'Royal Challengers Bangalore'},\n",
       "  {'team': 'Mumbai Indians'},\n",
       "  {'team': 'Chennai Super Kings'},\n",
       "  {'team': 'Mumbai Indians'},\n",
       "  {'team': 'Chennai Super Kings'},\n",
       "  {'team': 'Royal Challengers Bangalore'},\n",
       "  {'team': 'Mumbai Indians'},\n",
       "  {'team': 'Chennai Super Kings'},\n",
       "  {'team': 'Mumbai Indians'},\n",
       "  {'team': 'Chennai Super Kings'}]}"
      ]
     },
     "execution_count": 54,
     "metadata": {},
     "output_type": "execute_result"
    }
   ],
   "source": [
    "# view documents\n",
    "vector_store.get(include=['embeddings','documents', 'metadatas'])"
   ]
  }
 ],
 "metadata": {
  "kernelspec": {
   "display_name": "venv",
   "language": "python",
   "name": "python3"
  },
  "language_info": {
   "codemirror_mode": {
    "name": "ipython",
    "version": 3
   },
   "file_extension": ".py",
   "mimetype": "text/x-python",
   "name": "python",
   "nbconvert_exporter": "python",
   "pygments_lexer": "ipython3",
   "version": "3.11.5"
  }
 },
 "nbformat": 4,
 "nbformat_minor": 5
}
