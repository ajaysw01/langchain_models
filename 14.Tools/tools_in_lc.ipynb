{
 "cells": [
  {
   "cell_type": "code",
   "execution_count": null,
   "id": "4384110c",
   "metadata": {},
   "outputs": [],
   "source": [
    "!pip install langchain langchain-core langchain-community pydantic duckduckgo-search langchain_experimental"
   ]
  },
  {
   "cell_type": "markdown",
   "id": "9d6a69b9",
   "metadata": {},
   "source": [
    "## Built in Tools\n",
    "#### DuckDuckGo Search"
   ]
  },
  {
   "cell_type": "code",
   "execution_count": null,
   "id": "2f64a28a",
   "metadata": {},
   "outputs": [],
   "source": [
    "from langchain_community.tools import DuckDuckGoSearchRun\n",
    "search_tool = DuckDuckGoSearchRun()\n",
    "\n",
    "results = search_tool.invoke(\"top news in inida today\")\n",
    "print(results)"
   ]
  },
  {
   "cell_type": "markdown",
   "id": "1be78d80",
   "metadata": {},
   "source": [
    "#### Shell Tool"
   ]
  },
  {
   "cell_type": "code",
   "execution_count": null,
   "id": "4cffb888",
   "metadata": {},
   "outputs": [],
   "source": [
    "from langchain_community.tools import ShellTool\n",
    "shell_tool = ShellTool()\n",
    "result = shell_tool.invoke(\"whoami\")\n",
    "print(result)"
   ]
  },
  {
   "cell_type": "markdown",
   "id": "3867984b",
   "metadata": {},
   "source": [
    "## Custom Tools"
   ]
  },
  {
   "cell_type": "code",
   "execution_count": null,
   "id": "3d9e9b0d",
   "metadata": {},
   "outputs": [],
   "source": [
    "from langchain_core.tools import tool\n",
    "\n",
    "#step 1 create a funciton\n",
    "def multiply(a,b):\n",
    "  \"\"\"Mulitpy two numbers\"\"\"\n",
    "  return a*b"
   ]
  },
  {
   "cell_type": "code",
   "execution_count": null,
   "id": "de16b27b",
   "metadata": {},
   "outputs": [],
   "source": [
    "#step 2 add type hints\n",
    "def multiply(a:int,b:int) -> int:\n",
    "  \"\"\"Mulitpy two numbers\"\"\"\n",
    "  return a*b"
   ]
  },
  {
   "cell_type": "code",
   "execution_count": null,
   "id": "5830456e",
   "metadata": {},
   "outputs": [],
   "source": [
    "#step 3 add tool decorator \n",
    "@tool\n",
    "def multiply(a:int,b:int) -> int:\n",
    "  \"\"\"Mulitpy two numbers\"\"\"\n",
    "  return a*b"
   ]
  },
  {
   "cell_type": "code",
   "execution_count": null,
   "id": "eb1b4cb2",
   "metadata": {},
   "outputs": [],
   "source": [
    "result = multiply.invoke({\"a\":3,\"b\":4})\n",
    "print(result)\n",
    "print(multiply.name)\n",
    "print(multiply.description)\n",
    "print(multiply.args)"
   ]
  },
  {
   "cell_type": "code",
   "execution_count": null,
   "id": "4c8daea8",
   "metadata": {},
   "outputs": [],
   "source": [
    "print(multiply.args_schema.model_json_schema())"
   ]
  },
  {
   "cell_type": "markdown",
   "id": "e95f132a",
   "metadata": {},
   "source": [
    "### Way 2 : StrucuredTool"
   ]
  },
  {
   "cell_type": "code",
   "execution_count": null,
   "id": "534055bd",
   "metadata": {},
   "outputs": [],
   "source": [
    "from langchain.tools import StructuredTool\n",
    "from pydantic import BaseModel, Field"
   ]
  },
  {
   "cell_type": "code",
   "execution_count": null,
   "id": "594222d0",
   "metadata": {},
   "outputs": [],
   "source": [
    "class MultiplyInput(BaseModel):\n",
    "  a: int = Field(description=\"The first number to multiply\")\n",
    "  b: int = Field(description=\"The second number to multiply\")"
   ]
  },
  {
   "cell_type": "code",
   "execution_count": null,
   "id": "1c480562",
   "metadata": {},
   "outputs": [],
   "source": [
    "def multipy_func(a:int , b: int) -> int:\n",
    "  \"\"\"Multiply two numbers\"\"\"\n",
    "  return a*b"
   ]
  },
  {
   "cell_type": "code",
   "execution_count": null,
   "id": "f5cf35b8",
   "metadata": {},
   "outputs": [],
   "source": [
    "multipy_tool = StructuredTool.from_function(\n",
    "  func=multipy_func,\n",
    "  name=\"mulitply\",\n",
    "  description=\"Multiply two numbers\",\n",
    "  args_schema=MultiplyInput\n",
    ")"
   ]
  },
  {
   "cell_type": "code",
   "execution_count": null,
   "id": "4482ec49",
   "metadata": {},
   "outputs": [],
   "source": [
    "result = multiply.invoke({\"a\":5,\"b\":6})\n",
    "print(result)"
   ]
  },
  {
   "cell_type": "markdown",
   "id": "23cf61fa",
   "metadata": {},
   "source": [
    "### Way 3 BaseTool Class"
   ]
  },
  {
   "cell_type": "code",
   "execution_count": null,
   "id": "10ab686c",
   "metadata": {},
   "outputs": [],
   "source": [
    "from langchain.tools import BaseTool\n",
    "from typing import Type"
   ]
  },
  {
   "cell_type": "code",
   "execution_count": null,
   "id": "4d20cfc0",
   "metadata": {},
   "outputs": [],
   "source": [
    "#arg schema using pydantic\n",
    "class MultiplyInput2(BaseModel):\n",
    "  a: int = Field(description=\"The first number to multiply\")\n",
    "  b: int = Field(description=\"The second number to multiply\")"
   ]
  },
  {
   "cell_type": "code",
   "execution_count": null,
   "id": "10c64b3d",
   "metadata": {},
   "outputs": [],
   "source": [
    "class MultiplyTool(BaseTool):\n",
    "    name: str = \"multiply\"\n",
    "    description: str = \"Multiply two numbers\"\n",
    "    args_schema: type = MultiplyInput2\n",
    "\n",
    "    def run(self, input: MultiplyInput2) -> int:\n",
    "        return input.a * input.b\n",
    "\n",
    "    def _run(self, input: MultiplyInput2) -> int:\n",
    "        return self.run(input)\n",
    "\n",
    "    async def _arun(self, input: MultiplyInput2) -> int:\n",
    "        return self.run(input)"
   ]
  },
  {
   "cell_type": "code",
   "execution_count": null,
   "id": "c02b9c50",
   "metadata": {},
   "outputs": [],
   "source": [
    "mul_tool = MultiplyTool()"
   ]
  },
  {
   "cell_type": "code",
   "execution_count": null,
   "id": "4023a827",
   "metadata": {},
   "outputs": [],
   "source": [
    "result = mul_tool.run(MultiplyInput2(a=7, b=8))\n",
    "print(result)"
   ]
  },
  {
   "cell_type": "markdown",
   "id": "2db41ae5",
   "metadata": {},
   "source": [
    "#### Toolkits"
   ]
  },
  {
   "cell_type": "code",
   "execution_count": null,
   "id": "c1e663b9",
   "metadata": {},
   "outputs": [],
   "source": [
    "from langchain.tools import tool\n",
    "\n",
    "@tool\n",
    "def add (a:int, b: int) -> int:\n",
    "  \"\"\"Add two numbers\"\"\"\n",
    "  return a+b\n",
    "\n",
    "@tool\n",
    "def subtract(a:int, b:int)-> int:\n",
    "  \"\"\"Subtract a number\"\"\"\n",
    "  return a-b"
   ]
  },
  {
   "cell_type": "code",
   "execution_count": null,
   "id": "a1d200b0",
   "metadata": {},
   "outputs": [],
   "source": [
    "class MathToolkit:\n",
    "  def get_tools(self):\n",
    "    return [add, subtract]"
   ]
  },
  {
   "cell_type": "code",
   "execution_count": null,
   "id": "5a831b0c",
   "metadata": {},
   "outputs": [],
   "source": [
    "toolkit = MathToolkit()\n",
    "tools = toolkit.get_tools()\n",
    "\n",
    "for tool in tools: \n",
    "  print(tool.name)"
   ]
  }
 ],
 "metadata": {
  "kernelspec": {
   "display_name": "venv",
   "language": "python",
   "name": "python3"
  },
  "language_info": {
   "codemirror_mode": {
    "name": "ipython",
    "version": 3
   },
   "file_extension": ".py",
   "mimetype": "text/x-python",
   "name": "python",
   "nbconvert_exporter": "python",
   "pygments_lexer": "ipython3",
   "version": "3.11.5"
  }
 },
 "nbformat": 4,
 "nbformat_minor": 5
}
